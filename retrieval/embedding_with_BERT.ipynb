{
 "cells": [
  {
   "cell_type": "code",
   "execution_count": 2,
   "id": "28cd4399",
   "metadata": {},
   "outputs": [],
   "source": [
    "import boto3\n",
    "import pandas as pd\n",
    "import json\n",
    "import matplotlib.pyplot as plt\n",
    "import time\n",
    "import torch\n",
    "from transformers import pipeline, AutoTokenizer, AutoModelForCausalLM, AutoModelForTokenClassification\n",
    "import os\n",
    "from huggingface_hub import login\n",
    "from sentence_transformers import SentenceTransformer"
   ]
  },
  {
   "cell_type": "markdown",
   "id": "1c58aee7",
   "metadata": {},
   "source": [
    "## load questions and sql queries in spider train"
   ]
  },
  {
   "cell_type": "code",
   "execution_count": 3,
   "id": "8dfe8efe",
   "metadata": {},
   "outputs": [],
   "source": [
    "# Define your S3 bucket and file key\n",
    "bucket_name = 'sagemaker-studio-423623869859-3no3d9ie4hx'\n",
    "file_key = 'train_spider.json'  # replace with your actual file path\n",
    "\n",
    "# Initialize the S3 client\n",
    "s3_client = boto3.client('s3')\n",
    "\n",
    "# Load the file from S3\n",
    "obj = s3_client.get_object(Bucket=bucket_name, Key=file_key)\n",
    "json_train = json.load(obj['Body'])\n",
    "\n",
    "# Load questions and answers into a pandas dataframe\n",
    "pd.set_option('display.max_colwidth', None)\n",
    "\n",
    "list_questions_and_sqls = []\n",
    "\n",
    "for ele in json_train:\n",
    "    list_questions_and_sqls.append([ele['question'], ele['query']])\n",
    "    \n",
    "df_questions_and_sqls = pd.DataFrame(list_questions_and_sqls, columns=['question', 'sql_query'])"
   ]
  },
  {
   "cell_type": "code",
   "execution_count": 4,
   "id": "4a0204a1",
   "metadata": {},
   "outputs": [
    {
     "data": {
      "text/html": [
       "<div>\n",
       "<style scoped>\n",
       "    .dataframe tbody tr th:only-of-type {\n",
       "        vertical-align: middle;\n",
       "    }\n",
       "\n",
       "    .dataframe tbody tr th {\n",
       "        vertical-align: top;\n",
       "    }\n",
       "\n",
       "    .dataframe thead th {\n",
       "        text-align: right;\n",
       "    }\n",
       "</style>\n",
       "<table border=\"1\" class=\"dataframe\">\n",
       "  <thead>\n",
       "    <tr style=\"text-align: right;\">\n",
       "      <th></th>\n",
       "      <th>question</th>\n",
       "      <th>sql_query</th>\n",
       "    </tr>\n",
       "  </thead>\n",
       "  <tbody>\n",
       "    <tr>\n",
       "      <th>0</th>\n",
       "      <td>How many heads of the departments are older than 56 ?</td>\n",
       "      <td>SELECT count(*) FROM head WHERE age  &gt;  56</td>\n",
       "    </tr>\n",
       "    <tr>\n",
       "      <th>1</th>\n",
       "      <td>List the name, born state and age of the heads of departments ordered by age.</td>\n",
       "      <td>SELECT name ,  born_state ,  age FROM head ORDER BY age</td>\n",
       "    </tr>\n",
       "    <tr>\n",
       "      <th>2</th>\n",
       "      <td>List the creation year, name and budget of each department.</td>\n",
       "      <td>SELECT creation ,  name ,  budget_in_billions FROM department</td>\n",
       "    </tr>\n",
       "    <tr>\n",
       "      <th>3</th>\n",
       "      <td>What are the maximum and minimum budget of the departments?</td>\n",
       "      <td>SELECT max(budget_in_billions) ,  min(budget_in_billions) FROM department</td>\n",
       "    </tr>\n",
       "    <tr>\n",
       "      <th>4</th>\n",
       "      <td>What is the average number of employees of the departments whose rank is between 10 and 15?</td>\n",
       "      <td>SELECT avg(num_employees) FROM department WHERE ranking BETWEEN 10 AND 15</td>\n",
       "    </tr>\n",
       "  </tbody>\n",
       "</table>\n",
       "</div>"
      ],
      "text/plain": [
       "                                                                                      question  \\\n",
       "0                                        How many heads of the departments are older than 56 ?   \n",
       "1                List the name, born state and age of the heads of departments ordered by age.   \n",
       "2                                  List the creation year, name and budget of each department.   \n",
       "3                                  What are the maximum and minimum budget of the departments?   \n",
       "4  What is the average number of employees of the departments whose rank is between 10 and 15?   \n",
       "\n",
       "                                                                   sql_query  \n",
       "0                                 SELECT count(*) FROM head WHERE age  >  56  \n",
       "1                    SELECT name ,  born_state ,  age FROM head ORDER BY age  \n",
       "2              SELECT creation ,  name ,  budget_in_billions FROM department  \n",
       "3  SELECT max(budget_in_billions) ,  min(budget_in_billions) FROM department  \n",
       "4  SELECT avg(num_employees) FROM department WHERE ranking BETWEEN 10 AND 15  "
      ]
     },
     "execution_count": 4,
     "metadata": {},
     "output_type": "execute_result"
    }
   ],
   "source": [
    "df_questions_and_sqls.head(5)"
   ]
  },
  {
   "cell_type": "markdown",
   "id": "23ec5944",
   "metadata": {},
   "source": [
    "## sentence embedding with BERT"
   ]
  },
  {
   "cell_type": "code",
   "execution_count": 6,
   "id": "80a553de",
   "metadata": {},
   "outputs": [],
   "source": [
    "# Load the pre-trained model\n",
    "model = SentenceTransformer('sentence-transformers/all-MiniLM-L12-v2')"
   ]
  },
  {
   "cell_type": "code",
   "execution_count": 8,
   "id": "c0a56b17",
   "metadata": {},
   "outputs": [
    {
     "name": "stdout",
     "output_type": "stream",
     "text": [
      "Sentence: Artificial intelligence is transforming healthcare.\n",
      "Embedding: [-0.03841847 -0.01910543 -0.04153921  0.00217933 -0.05643337]...\n",
      "384\n",
      "\n",
      "Sentence: AI is making significant advances in medical diagnostics.\n",
      "Embedding: [-0.05644108 -0.06398027 -0.00725187 -0.01021199  0.00754326]...\n",
      "384\n",
      "\n",
      "Sentence: Natural language processing helps computers understand human language.\n",
      "Embedding: [ 0.00287584 -0.00609016  0.03169986  0.0238028   0.00913628]...\n",
      "384\n",
      "\n"
     ]
    }
   ],
   "source": [
    "# Example sentences to generate embeddings for\n",
    "sentences = [\n",
    "    \"Artificial intelligence is transforming healthcare.\",\n",
    "    \"AI is making significant advances in medical diagnostics.\",\n",
    "    \"Natural language processing helps computers understand human language.\"\n",
    "]\n",
    "\n",
    "# Generate embeddings\n",
    "embeddings = model.encode(sentences)\n",
    "\n",
    "# Display the embeddings\n",
    "for i, sentence in enumerate(sentences):\n",
    "    print(f\"Sentence: {sentence}\")\n",
    "    print(f\"Embedding: {embeddings[i][:5]}...\")  # Displaying only the first 5 values for brevity\n",
    "    print(len(embeddings[i]))\n",
    "    print()"
   ]
  },
  {
   "cell_type": "code",
   "execution_count": null,
   "id": "5aa3ac73",
   "metadata": {},
   "outputs": [],
   "source": []
  }
 ],
 "metadata": {
  "kernelspec": {
   "display_name": "conda_pytorch_p310",
   "language": "python",
   "name": "conda_pytorch_p310"
  },
  "language_info": {
   "codemirror_mode": {
    "name": "ipython",
    "version": 3
   },
   "file_extension": ".py",
   "mimetype": "text/x-python",
   "name": "python",
   "nbconvert_exporter": "python",
   "pygments_lexer": "ipython3",
   "version": "3.10.14"
  }
 },
 "nbformat": 4,
 "nbformat_minor": 5
}
