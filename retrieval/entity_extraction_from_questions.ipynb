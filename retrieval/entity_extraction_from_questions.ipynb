{
 "cells": [
  {
   "cell_type": "code",
   "execution_count": 24,
   "id": "44dc2458",
   "metadata": {},
   "outputs": [
    {
     "name": "stdout",
     "output_type": "stream",
     "text": [
      "Collecting transformers\n",
      "  Downloading transformers-4.46.2-py3-none-any.whl.metadata (44 kB)\n",
      "Requirement already satisfied: filelock in /home/ec2-user/anaconda3/envs/tensorflow2_p310/lib/python3.10/site-packages (from transformers) (3.16.1)\n",
      "Collecting huggingface-hub<1.0,>=0.23.2 (from transformers)\n",
      "  Downloading huggingface_hub-0.26.2-py3-none-any.whl.metadata (13 kB)\n",
      "Requirement already satisfied: numpy>=1.17 in /home/ec2-user/anaconda3/envs/tensorflow2_p310/lib/python3.10/site-packages (from transformers) (1.26.4)\n",
      "Requirement already satisfied: packaging>=20.0 in /home/ec2-user/anaconda3/envs/tensorflow2_p310/lib/python3.10/site-packages (from transformers) (21.3)\n",
      "Requirement already satisfied: pyyaml>=5.1 in /home/ec2-user/anaconda3/envs/tensorflow2_p310/lib/python3.10/site-packages (from transformers) (6.0.2)\n",
      "Requirement already satisfied: regex!=2019.12.17 in /home/ec2-user/anaconda3/envs/tensorflow2_p310/lib/python3.10/site-packages (from transformers) (2024.9.11)\n",
      "Requirement already satisfied: requests in /home/ec2-user/anaconda3/envs/tensorflow2_p310/lib/python3.10/site-packages (from transformers) (2.32.3)\n",
      "Collecting safetensors>=0.4.1 (from transformers)\n",
      "  Downloading safetensors-0.4.5-cp310-cp310-manylinux_2_17_x86_64.manylinux2014_x86_64.whl.metadata (3.8 kB)\n",
      "Collecting tokenizers<0.21,>=0.20 (from transformers)\n",
      "  Downloading tokenizers-0.20.3-cp310-cp310-manylinux_2_17_x86_64.manylinux2014_x86_64.whl.metadata (6.7 kB)\n",
      "Requirement already satisfied: tqdm>=4.27 in /home/ec2-user/anaconda3/envs/tensorflow2_p310/lib/python3.10/site-packages (from transformers) (4.66.5)\n",
      "Requirement already satisfied: fsspec>=2023.5.0 in /home/ec2-user/anaconda3/envs/tensorflow2_p310/lib/python3.10/site-packages (from huggingface-hub<1.0,>=0.23.2->transformers) (2024.10.0)\n",
      "Requirement already satisfied: typing-extensions>=3.7.4.3 in /home/ec2-user/anaconda3/envs/tensorflow2_p310/lib/python3.10/site-packages (from huggingface-hub<1.0,>=0.23.2->transformers) (4.12.2)\n",
      "Requirement already satisfied: pyparsing!=3.0.5,>=2.0.2 in /home/ec2-user/anaconda3/envs/tensorflow2_p310/lib/python3.10/site-packages (from packaging>=20.0->transformers) (3.2.0)\n",
      "Requirement already satisfied: charset-normalizer<4,>=2 in /home/ec2-user/anaconda3/envs/tensorflow2_p310/lib/python3.10/site-packages (from requests->transformers) (3.4.0)\n",
      "Requirement already satisfied: idna<4,>=2.5 in /home/ec2-user/anaconda3/envs/tensorflow2_p310/lib/python3.10/site-packages (from requests->transformers) (3.10)\n",
      "Requirement already satisfied: urllib3<3,>=1.21.1 in /home/ec2-user/anaconda3/envs/tensorflow2_p310/lib/python3.10/site-packages (from requests->transformers) (1.26.19)\n",
      "Requirement already satisfied: certifi>=2017.4.17 in /home/ec2-user/anaconda3/envs/tensorflow2_p310/lib/python3.10/site-packages (from requests->transformers) (2024.8.30)\n",
      "Downloading transformers-4.46.2-py3-none-any.whl (10.0 MB)\n",
      "\u001b[2K   \u001b[90m━━━━━━━━━━━━━━━━━━━━━━━━━━━━━━━━━━━━━━━━\u001b[0m \u001b[32m10.0/10.0 MB\u001b[0m \u001b[31m132.9 MB/s\u001b[0m eta \u001b[36m0:00:00\u001b[0m\n",
      "\u001b[?25hDownloading huggingface_hub-0.26.2-py3-none-any.whl (447 kB)\n",
      "Downloading safetensors-0.4.5-cp310-cp310-manylinux_2_17_x86_64.manylinux2014_x86_64.whl (435 kB)\n",
      "Downloading tokenizers-0.20.3-cp310-cp310-manylinux_2_17_x86_64.manylinux2014_x86_64.whl (3.0 MB)\n",
      "\u001b[2K   \u001b[90m━━━━━━━━━━━━━━━━━━━━━━━━━━━━━━━━━━━━━━━━\u001b[0m \u001b[32m3.0/3.0 MB\u001b[0m \u001b[31m153.1 MB/s\u001b[0m eta \u001b[36m0:00:00\u001b[0m\n",
      "\u001b[?25hInstalling collected packages: safetensors, huggingface-hub, tokenizers, transformers\n",
      "Successfully installed huggingface-hub-0.26.2 safetensors-0.4.5 tokenizers-0.20.3 transformers-4.46.2\n"
     ]
    }
   ],
   "source": [
    "!pip install transformers"
   ]
  },
  {
   "cell_type": "code",
   "execution_count": 42,
   "id": "183834ac-efae-4bc9-95c8-e0ffd2bd0cc8",
   "metadata": {
    "tags": []
   },
   "outputs": [],
   "source": [
    "import boto3\n",
    "import pandas as pd\n",
    "import json\n",
    "import matplotlib.pyplot as plt\n",
    "import time\n",
    "from transformers import pipeline"
   ]
  },
  {
   "cell_type": "code",
   "execution_count": 27,
   "id": "e9f6c3f8-b3f5-47f3-9c7d-7e692d75a850",
   "metadata": {
    "tags": []
   },
   "outputs": [],
   "source": [
    "# Define your S3 bucket and file key\n",
    "bucket_name = 'sagemaker-studio-423623869859-3no3d9ie4hx'\n",
    "file_key = 'train_spider.json'  # replace with your actual file path\n",
    "\n",
    "# Initialize the S3 client\n",
    "s3_client = boto3.client('s3')\n",
    "\n",
    "# Load the file from S3\n",
    "obj = s3_client.get_object(Bucket=bucket_name, Key=file_key)\n",
    "json_train = json.load(obj['Body'])"
   ]
  },
  {
   "cell_type": "code",
   "execution_count": 28,
   "id": "be33cab1-d398-489f-8b85-bb3a656f92d8",
   "metadata": {
    "tags": []
   },
   "outputs": [
    {
     "name": "stdout",
     "output_type": "stream",
     "text": [
      "{'db_id': 'department_management', 'query': 'SELECT count(*) FROM head WHERE age  >  56', 'query_toks': ['SELECT', 'count', '(', '*', ')', 'FROM', 'head', 'WHERE', 'age', '>', '56'], 'query_toks_no_value': ['select', 'count', '(', '*', ')', 'from', 'head', 'where', 'age', '>', 'value'], 'question': 'How many heads of the departments are older than 56 ?', 'question_toks': ['How', 'many', 'heads', 'of', 'the', 'departments', 'are', 'older', 'than', '56', '?'], 'sql': {'from': {'table_units': [['table_unit', 1]], 'conds': []}, 'select': [False, [[3, [0, [0, 0, False], None]]]], 'where': [[False, 3, [0, [0, 10, False], None], 56.0, None]], 'groupBy': [], 'having': [], 'orderBy': [], 'limit': None, 'intersect': None, 'union': None, 'except': None}}\n"
     ]
    }
   ],
   "source": [
    "# Display the data\n",
    "print(json_train[0])"
   ]
  },
  {
   "cell_type": "code",
   "execution_count": 29,
   "id": "91d1fc6d-70ac-48be-ba9a-4b79617fd3e1",
   "metadata": {
    "tags": []
   },
   "outputs": [
    {
     "name": "stdout",
     "output_type": "stream",
     "text": [
      "{'db_id': 'department_management', 'query': 'SELECT name ,  born_state ,  age FROM head ORDER BY age', 'query_toks': ['SELECT', 'name', ',', 'born_state', ',', 'age', 'FROM', 'head', 'ORDER', 'BY', 'age'], 'query_toks_no_value': ['select', 'name', ',', 'born_state', ',', 'age', 'from', 'head', 'order', 'by', 'age'], 'question': 'List the name, born state and age of the heads of departments ordered by age.', 'question_toks': ['List', 'the', 'name', ',', 'born', 'state', 'and', 'age', 'of', 'the', 'heads', 'of', 'departments', 'ordered', 'by', 'age', '.'], 'sql': {'from': {'table_units': [['table_unit', 1]], 'conds': []}, 'select': [False, [[0, [0, [0, 8, False], None]], [0, [0, [0, 9, False], None]], [0, [0, [0, 10, False], None]]]], 'where': [], 'groupBy': [], 'having': [], 'orderBy': ['asc', [[0, [0, 10, False], None]]], 'limit': None, 'intersect': None, 'union': None, 'except': None}}\n"
     ]
    }
   ],
   "source": [
    "print(json_train[1])"
   ]
  },
  {
   "cell_type": "code",
   "execution_count": 30,
   "id": "33c295dc-eae5-40df-b98f-a8f91306e868",
   "metadata": {
    "tags": []
   },
   "outputs": [
    {
     "data": {
      "text/plain": [
       "7000"
      ]
     },
     "execution_count": 30,
     "metadata": {},
     "output_type": "execute_result"
    }
   ],
   "source": [
    "len(json_train)"
   ]
  },
  {
   "cell_type": "markdown",
   "id": "46012dab-9894-4ab6-89bf-d8f9e03a9963",
   "metadata": {},
   "source": [
    "## collect all questions and sql queries"
   ]
  },
  {
   "cell_type": "code",
   "execution_count": 31,
   "id": "05fd3565-bf03-400a-8a68-9620ba9c077d",
   "metadata": {
    "tags": []
   },
   "outputs": [],
   "source": [
    "pd.set_option('display.max_colwidth', None)\n",
    "\n",
    "list_questions_and_sqls = []\n",
    "\n",
    "for ele in json_train:\n",
    "    list_questions_and_sqls.append([ele['question'], ele['query']])\n",
    "    \n",
    "df_questions_and_sqls = pd.DataFrame(list_questions_and_sqls, columns=['question', 'sql_query'])"
   ]
  },
  {
   "cell_type": "code",
   "execution_count": null,
   "id": "44e43c9b",
   "metadata": {},
   "outputs": [],
   "source": [
    "df_questions_and_sqls.shape"
   ]
  },
  {
   "cell_type": "code",
   "execution_count": null,
   "id": "e8764094-41fa-47d7-b6ca-79bd06cc95c2",
   "metadata": {
    "tags": []
   },
   "outputs": [],
   "source": [
    "df_questions_and_sqls.head(5)"
   ]
  },
  {
   "cell_type": "code",
   "execution_count": 10,
   "id": "45f778a2-6991-4a2d-b633-e08b4db7d6b0",
   "metadata": {
    "tags": []
   },
   "outputs": [],
   "source": [
    "df_questions_and_sqls['question_length'] = df_questions_and_sqls['question'].apply(len)\n",
    "df_questions_and_sqls['sql_query_length'] = df_questions_and_sqls['sql_query'].apply(len)"
   ]
  },
  {
   "cell_type": "markdown",
   "id": "db13b3d4-24fb-4bc2-bb1c-b4e27b79e1c4",
   "metadata": {},
   "source": [
    "## distribution of question and sql_query lengths"
   ]
  },
  {
   "cell_type": "code",
   "execution_count": 11,
   "id": "d4679e97-71ed-4d61-a39e-764793bef4a9",
   "metadata": {},
   "outputs": [],
   "source": [
    "def compute_quantiles(df, column_name):\n",
    "    \"\"\"\n",
    "    Compute quantiles from 0% to 100% (in increments of 10%) for a specified column in a DataFrame.\n",
    "\n",
    "    Parameters:\n",
    "    df (pd.DataFrame): The DataFrame containing the data.\n",
    "    column_name (str): The name of the column to compute quantiles for.\n",
    "\n",
    "    Returns:\n",
    "    list: A list of quantiles from 0% to 100% for the specified column.\n",
    "    \"\"\"\n",
    "    quantile_range = [i / 100 for i in range(0, 101, 10)]\n",
    "    quantiles = df[column_name].quantile(quantile_range).tolist()\n",
    "    return quantiles"
   ]
  },
  {
   "cell_type": "markdown",
   "id": "9dbc1be0-e1eb-4e4f-b1e7-f87d2015df16",
   "metadata": {},
   "source": [
    "### questions"
   ]
  },
  {
   "cell_type": "code",
   "execution_count": 12,
   "id": "b1b581e3-662d-452a-82ba-533e11b34d8c",
   "metadata": {
    "tags": []
   },
   "outputs": [
    {
     "data": {
      "text/plain": [
       "[16.0, 42.0, 51.0, 57.0, 63.0, 69.0, 75.0, 82.0, 90.0, 102.0, 224.0]"
      ]
     },
     "execution_count": 12,
     "metadata": {},
     "output_type": "execute_result"
    }
   ],
   "source": [
    "compute_quantiles(df_questions_and_sqls, 'question_length')"
   ]
  },
  {
   "cell_type": "code",
   "execution_count": 13,
   "id": "b18e0c42-3a3f-42d6-a267-1819727269ef",
   "metadata": {
    "tags": []
   },
   "outputs": [
    {
     "data": {
      "image/png": "[encoded data removed]",
      "text/plain": [
       "<Figure size 640x480 with 1 Axes>"
      ]
     },
     "metadata": {},
     "output_type": "display_data"
    }
   ],
   "source": [
    "plt.hist(df_questions_and_sqls['question_length'], bins=10)  # Adjust the number of bins as needed\n",
    "plt.xlabel('Number of Characters')\n",
    "plt.ylabel('Frequency')\n",
    "plt.show()"
   ]
  },
  {
   "cell_type": "markdown",
   "id": "2b0833a2-4357-476b-b2a6-97a20b9ac415",
   "metadata": {},
   "source": [
    "### sql queries"
   ]
  },
  {
   "cell_type": "code",
   "execution_count": 14,
   "id": "3d3a1394-c193-46e3-8802-11b497018b61",
   "metadata": {
    "tags": []
   },
   "outputs": [
    {
     "data": {
      "text/plain": [
       "[18.0, 44.0, 56.0, 67.0, 78.0, 93.0, 113.0, 135.0, 158.0, 189.0, 577.0]"
      ]
     },
     "execution_count": 14,
     "metadata": {},
     "output_type": "execute_result"
    }
   ],
   "source": [
    "compute_quantiles(df_questions_and_sqls, 'sql_query_length')"
   ]
  },
  {
   "cell_type": "code",
   "execution_count": 15,
   "id": "46f6f851-8a9c-4ef2-9065-b70e02bd3ea4",
   "metadata": {
    "tags": []
   },
   "outputs": [
    {
     "data": {
      "image/png": "[encoded data removed]",
      "text/plain": [
       "<Figure size 640x480 with 1 Axes>"
      ]
     },
     "metadata": {},
     "output_type": "display_data"
    }
   ],
   "source": [
    "plt.hist(df_questions_and_sqls['sql_query_length'], bins=10)  # Adjust the number of bins as needed\n",
    "plt.xlabel('Number of Characters')\n",
    "plt.ylabel('Frequency')\n",
    "plt.show()"
   ]
  },
  {
   "cell_type": "code",
   "execution_count": 16,
   "id": "c0fc0d4f",
   "metadata": {},
   "outputs": [],
   "source": [
    "# # JSON string\n",
    "# json_string = \"{\\\"question\\\": \\\"some_question\\\", \\\"entities_for_tables\\\": [\\\"entity1\\\", \\\"entity2\\\", \\\"entity3\\\"]}\"\n",
    "\n",
    "# # Parse the JSON string\n",
    "# parsed_data = json.loads(json_string)\n",
    "\n",
    "# # Output the parsed data\n",
    "# print(parsed_data)\n",
    "# print(type(parsed_data))  # This will show <class 'dict'>\n",
    "# print(parsed_data['entities_for_tables'])"
   ]
  },
  {
   "cell_type": "markdown",
   "id": "d32a3881",
   "metadata": {},
   "source": [
    "## NER by predictive AI"
   ]
  },
  {
   "cell_type": "code",
   "execution_count": null,
   "id": "db0dc2c4",
   "metadata": {},
   "outputs": [],
   "source": [
    "# Load the NER pipeline with the model\n",
    "nlp_ner = pipeline(\"ner\", model=\"dbmdz/bert-large-cased-finetuned-conll03-english\")"
   ]
  },
  {
   "cell_type": "code",
   "execution_count": null,
   "id": "e5b17881",
   "metadata": {},
   "outputs": [],
   "source": [
    "# Example question as input\n",
    "question = \"today is a nice day\"\n",
    "\n",
    "# Extract entities\n",
    "entities = nlp_ner(question)\n",
    "print(entities)"
   ]
  },
  {
   "cell_type": "markdown",
   "id": "d03abf72",
   "metadata": {},
   "source": [
    "## Bedrock"
   ]
  },
  {
   "cell_type": "markdown",
   "id": "8738a8e0",
   "metadata": {},
   "source": [
    "### list of foundation models in Bedrock"
   ]
  },
  {
   "cell_type": "code",
   "execution_count": 12,
   "id": "8fd993f7",
   "metadata": {},
   "outputs": [
    {
     "data": {
      "text/plain": [
       "{'ResponseMetadata': {'RequestId': 'f786639e-3d64-4434-afd3-82231a9ac66e',\n",
       "  'HTTPStatusCode': 200,\n",
       "  'HTTPHeaders': {'date': 'Mon, 11 Nov 2024 23:36:29 GMT',\n",
       "   'content-type': 'application/json',\n",
       "   'content-length': '5174',\n",
       "   'connection': 'keep-alive',\n",
       "   'x-amzn-requestid': 'f786639e-3d64-4434-afd3-82231a9ac66e'},\n",
       "  'RetryAttempts': 0},\n",
       " 'modelSummaries': [{'modelArn': 'arn:aws:bedrock:us-east-2::foundation-model/amazon.titan-embed-text-v2:0',\n",
       "   'modelId': 'amazon.titan-embed-text-v2:0',\n",
       "   'modelName': 'Titan Text Embeddings V2',\n",
       "   'providerName': 'Amazon',\n",
       "   'inputModalities': ['TEXT'],\n",
       "   'outputModalities': ['EMBEDDING'],\n",
       "   'responseStreamingSupported': False,\n",
       "   'customizationsSupported': [],\n",
       "   'inferenceTypesSupported': ['ON_DEMAND'],\n",
       "   'modelLifecycle': {'status': 'ACTIVE'}},\n",
       "  {'modelArn': 'arn:aws:bedrock:us-east-2::foundation-model/anthropic.claude-3-5-sonnet-20240620-v1:0',\n",
       "   'modelId': 'anthropic.claude-3-5-sonnet-20240620-v1:0',\n",
       "   'modelName': 'Claude 3.5 Sonnet',\n",
       "   'providerName': 'Anthropic',\n",
       "   'inputModalities': ['TEXT', 'IMAGE'],\n",
       "   'outputModalities': ['TEXT'],\n",
       "   'responseStreamingSupported': True,\n",
       "   'customizationsSupported': [],\n",
       "   'inferenceTypesSupported': ['INFERENCE_PROFILE'],\n",
       "   'modelLifecycle': {'status': 'ACTIVE'}},\n",
       "  {'modelArn': 'arn:aws:bedrock:us-east-2::foundation-model/anthropic.claude-3-haiku-20240307-v1:0:200k',\n",
       "   'modelId': 'anthropic.claude-3-haiku-20240307-v1:0:200k',\n",
       "   'modelName': 'Claude 3 Haiku',\n",
       "   'providerName': 'Anthropic',\n",
       "   'inputModalities': ['TEXT', 'IMAGE'],\n",
       "   'outputModalities': ['TEXT'],\n",
       "   'responseStreamingSupported': True,\n",
       "   'customizationsSupported': [],\n",
       "   'inferenceTypesSupported': [],\n",
       "   'modelLifecycle': {'status': 'ACTIVE'}},\n",
       "  {'modelArn': 'arn:aws:bedrock:us-east-2::foundation-model/anthropic.claude-3-haiku-20240307-v1:0',\n",
       "   'modelId': 'anthropic.claude-3-haiku-20240307-v1:0',\n",
       "   'modelName': 'Claude 3 Haiku',\n",
       "   'providerName': 'Anthropic',\n",
       "   'inputModalities': ['TEXT', 'IMAGE'],\n",
       "   'outputModalities': ['TEXT'],\n",
       "   'responseStreamingSupported': True,\n",
       "   'customizationsSupported': [],\n",
       "   'inferenceTypesSupported': ['INFERENCE_PROFILE'],\n",
       "   'modelLifecycle': {'status': 'ACTIVE'}},\n",
       "  {'modelArn': 'arn:aws:bedrock:us-east-2::foundation-model/meta.llama3-1-8b-instruct-v1:0:128k',\n",
       "   'modelId': 'meta.llama3-1-8b-instruct-v1:0:128k',\n",
       "   'modelName': 'Llama 3.1 8B Instruct',\n",
       "   'providerName': 'Meta',\n",
       "   'inputModalities': ['TEXT'],\n",
       "   'outputModalities': ['TEXT'],\n",
       "   'responseStreamingSupported': True,\n",
       "   'customizationsSupported': [],\n",
       "   'inferenceTypesSupported': ['PROVISIONED'],\n",
       "   'modelLifecycle': {'status': 'ACTIVE'}},\n",
       "  {'modelArn': 'arn:aws:bedrock:us-east-2::foundation-model/meta.llama3-1-8b-instruct-v1:0',\n",
       "   'modelId': 'meta.llama3-1-8b-instruct-v1:0',\n",
       "   'modelName': 'Llama 3.1 8B Instruct',\n",
       "   'providerName': 'Meta',\n",
       "   'inputModalities': ['TEXT'],\n",
       "   'outputModalities': ['TEXT'],\n",
       "   'responseStreamingSupported': True,\n",
       "   'customizationsSupported': [],\n",
       "   'inferenceTypesSupported': ['INFERENCE_PROFILE'],\n",
       "   'modelLifecycle': {'status': 'ACTIVE'}},\n",
       "  {'modelArn': 'arn:aws:bedrock:us-east-2::foundation-model/meta.llama3-1-70b-instruct-v1:0:128k',\n",
       "   'modelId': 'meta.llama3-1-70b-instruct-v1:0:128k',\n",
       "   'modelName': 'Llama 3.1 70B Instruct',\n",
       "   'providerName': 'Meta',\n",
       "   'inputModalities': ['TEXT'],\n",
       "   'outputModalities': ['TEXT'],\n",
       "   'responseStreamingSupported': True,\n",
       "   'customizationsSupported': [],\n",
       "   'inferenceTypesSupported': ['PROVISIONED'],\n",
       "   'modelLifecycle': {'status': 'ACTIVE'}},\n",
       "  {'modelArn': 'arn:aws:bedrock:us-east-2::foundation-model/meta.llama3-1-70b-instruct-v1:0',\n",
       "   'modelId': 'meta.llama3-1-70b-instruct-v1:0',\n",
       "   'modelName': 'Llama 3.1 70B Instruct',\n",
       "   'providerName': 'Meta',\n",
       "   'inputModalities': ['TEXT'],\n",
       "   'outputModalities': ['TEXT'],\n",
       "   'responseStreamingSupported': True,\n",
       "   'customizationsSupported': [],\n",
       "   'inferenceTypesSupported': ['INFERENCE_PROFILE'],\n",
       "   'modelLifecycle': {'status': 'ACTIVE'}},\n",
       "  {'modelArn': 'arn:aws:bedrock:us-east-2::foundation-model/meta.llama3-2-11b-instruct-v1:0',\n",
       "   'modelId': 'meta.llama3-2-11b-instruct-v1:0',\n",
       "   'modelName': 'Llama 3.2 11B Instruct',\n",
       "   'providerName': 'Meta',\n",
       "   'inputModalities': ['TEXT', 'IMAGE'],\n",
       "   'outputModalities': ['TEXT'],\n",
       "   'responseStreamingSupported': True,\n",
       "   'customizationsSupported': [],\n",
       "   'inferenceTypesSupported': ['INFERENCE_PROFILE'],\n",
       "   'modelLifecycle': {'status': 'ACTIVE'}},\n",
       "  {'modelArn': 'arn:aws:bedrock:us-east-2::foundation-model/meta.llama3-2-90b-instruct-v1:0',\n",
       "   'modelId': 'meta.llama3-2-90b-instruct-v1:0',\n",
       "   'modelName': 'Llama 3.2 90B Instruct',\n",
       "   'providerName': 'Meta',\n",
       "   'inputModalities': ['TEXT', 'IMAGE'],\n",
       "   'outputModalities': ['TEXT'],\n",
       "   'responseStreamingSupported': True,\n",
       "   'customizationsSupported': [],\n",
       "   'inferenceTypesSupported': ['INFERENCE_PROFILE'],\n",
       "   'modelLifecycle': {'status': 'ACTIVE'}},\n",
       "  {'modelArn': 'arn:aws:bedrock:us-east-2::foundation-model/meta.llama3-2-1b-instruct-v1:0',\n",
       "   'modelId': 'meta.llama3-2-1b-instruct-v1:0',\n",
       "   'modelName': 'Llama 3.2 1B Instruct',\n",
       "   'providerName': 'Meta',\n",
       "   'inputModalities': ['TEXT'],\n",
       "   'outputModalities': ['TEXT'],\n",
       "   'responseStreamingSupported': True,\n",
       "   'customizationsSupported': [],\n",
       "   'inferenceTypesSupported': ['INFERENCE_PROFILE'],\n",
       "   'modelLifecycle': {'status': 'ACTIVE'}},\n",
       "  {'modelArn': 'arn:aws:bedrock:us-east-2::foundation-model/meta.llama3-2-3b-instruct-v1:0',\n",
       "   'modelId': 'meta.llama3-2-3b-instruct-v1:0',\n",
       "   'modelName': 'Llama 3.2 3B Instruct',\n",
       "   'providerName': 'Meta',\n",
       "   'inputModalities': ['TEXT'],\n",
       "   'outputModalities': ['TEXT'],\n",
       "   'responseStreamingSupported': True,\n",
       "   'customizationsSupported': [],\n",
       "   'inferenceTypesSupported': ['INFERENCE_PROFILE'],\n",
       "   'modelLifecycle': {'status': 'ACTIVE'}}]}"
      ]
     },
     "execution_count": 12,
     "metadata": {},
     "output_type": "execute_result"
    }
   ],
   "source": [
    "# Use the ListFoundationModels API to show the models that are available in your region.\n",
    "import boto3\n",
    "             \n",
    "# Create an &BR; client in the &region-us-east-1; Region.\n",
    "bedrock = boto3.client(\n",
    "    service_name=\"bedrock\"\n",
    ")\n",
    "\n",
    "bedrock.list_foundation_models()"
   ]
  },
  {
   "cell_type": "markdown",
   "id": "e8fa9c5a",
   "metadata": {},
   "source": [
    "### Bedrock Inference"
   ]
  },
  {
   "cell_type": "code",
   "execution_count": 33,
   "id": "43e3281b",
   "metadata": {},
   "outputs": [
    {
     "name": "stdout",
     "output_type": "stream",
     "text": [
      "anthropic.claude-3-5-sonnet-20240620-v1:0\n",
      "anthropic.claude-3-haiku-20240307-v1:0:200k\n",
      "anthropic.claude-3-haiku-20240307-v1:0\n"
     ]
    }
   ],
   "source": [
    "bedrock = boto3.client(service_name=\"bedrock\")\n",
    "response = bedrock.list_foundation_models(byProvider=\"anthropic\")\n",
    "\n",
    "for summary in response[\"modelSummaries\"]:\n",
    "    print(summary[\"modelId\"])"
   ]
  },
  {
   "cell_type": "code",
   "execution_count": 1,
   "id": "3e74f9e0",
   "metadata": {},
   "outputs": [
    {
     "name": "stdout",
     "output_type": "stream",
     "text": [
      "Model Response: {'embedding': [-0.08712778240442276, 0.025970781221985817, -0.029154296964406967, -0.014409594237804413, 0.07807989418506622, -0.025468120351433754, 0.042558569461107254, 0.04523942619562149, -0.0405479297041893, 0.03451600670814514, -0.08578735589981079, 0.06300009042024612, 0.08411181718111038, 0.028316529467701912, -0.048925600945949554, -0.0246303528547287, 0.015079808421432972, 0.028986742720007896, 0.04222346469759941, -0.02948940359055996, -0.007246685680001974, 0.007875011302530766, 0.011980069801211357, 0.01080719567835331, -0.144766166806221, -0.019687527790665627, -0.06568094342947006, -0.045574530959129333, 0.10455333441495895, -0.0707075446844101, 0.03317558020353317, 0.06266497820615768, 0.053617097437381744, -0.004942825995385647, 0.013739380985498428, 0.07539904117584229, 0.07673946768045425, 0.021446838974952698, 0.0016964784590527415, 0.033343132585287094, 0.04825538769364357, 0.025635674595832825, -0.0016650621546432376, 0.06702136993408203, 0.05495752394199371, -0.058308593928813934, -0.013571827672421932, 0.03267291933298111, 0.027478761970996857, 0.033343132585287094, 0.04624474421143532, -0.07573414593935013, -0.024127693846821785, 0.15615978837013245, -0.012985390610992908, -0.03434845060110092, 0.008712777867913246, 0.061324555426836014, -0.07003733515739441, -0.05093624070286751, -0.08846820890903473, -0.023792587220668793, 0.05227666720747948, 0.048925600945949554, 0.05026602745056152, -0.01834709942340851, -0.04389899596571922, -0.006576471962034702, -0.13806402683258057, -0.04859049245715141, -0.0469149611890316, -0.031667597591876984, 0.06769158691167831, 0.08277139067649841, 0.01884976029396057, -0.053617097437381744, 0.044234104454517365, 0.013739380985498428, -0.018933536484837532, -0.033343132585287094, -0.07171286642551422, 0.06735647469758987, 0.045909639447927475, -0.0117287402972579, -0.020525295287370682, -0.05596284568309784, 0.020441517233848572, 0.03367823734879494, 0.022117052227258682, 0.019771303981542587, -0.006157588213682175, 0.03702930733561516, 0.042893677949905396, -0.05797348544001579, 0.009089773520827293, -0.10053205490112305, -0.03267291933298111, -0.09584055840969086, -0.042558569461107254, -0.0059900349006056786, -0.07439371943473816, 0.013906934298574924, 0.09047885239124298, -0.009969429112970829, 0.12197889387607574, 0.03267291933298111, 0.0556277371942997, -0.005948146805167198, 0.027143655344843864, 0.019017314538359642, -0.012650283984839916, 0.09651077538728714, 0.05596284568309784, -0.0532819889485836, 0.041050590574741364, -0.02027396485209465, 0.028651636093854904, 0.0246303528547287, -0.02814897522330284, 0.00929921492934227, -0.044569212943315506, -0.0532819889485836, 0.034180898219347, 0.07506393641233444, 0.0025133013259619474, -0.01080719567835331, -0.026976101100444794, -0.09114906191825867, 0.03836973384022713, 0.01683911867439747, 0.0985214114189148, -0.019184866920113564, 0.02932184934616089, 0.010430200956761837, -0.0898086354136467, 0.04959581419825554, 0.003686175448819995, 0.0266409944742918, 0.0013613716000691056, -0.08210118114948273, 0.004607719369232655, 0.019938858225941658, 0.016420235857367516, 0.0007435183506458998, -0.041050590574741364, 0.016001353040337563, -0.012734060175716877, 0.0011100413976237178, -0.0707075446844101, -0.029154296964406967, 0.023960139602422714, -0.02010641060769558, 0.01683911867439747, 0.0007435183506458998, -0.04490431770682335, -0.06970222294330597, -0.06769158691167831, 0.011477409861981869, 0.004167891573160887, -0.07372350990772247, -0.0016231738263741136, 0.0014870367012917995, 0.01734177954494953, -0.023625032976269722, 0.02513301372528076, -0.010430200956761837, 0.05462241545319557, -0.014158264733850956, -0.017593109980225563, -0.005277933087199926, -0.04205590859055519, -0.01575002260506153, 0.01843087747693062, -0.0492607057094574, 0.007875011302530766, 0.03384579345583916, 0.09919162839651108, 0.03367823734879494, -0.0029112407937645912, -0.031667597591876984, 0.003162570996209979, 0.03267291933298111, 0.00628325343132019, -0.03602398559451103, -0.022452158853411674, -0.010890972800552845, 0.13404273986816406, -0.011980069801211357, 0.022452158853411674, 0.061994768679142, -0.024462800472974777, -0.03434845060110092, 0.01005320530384779, -0.05730327218770981, 0.06300009042024612, 0.039877716451883316, 0.05462241545319557, 0.026808548718690872, 0.08712778240442276, 0.03250536322593689, 0.03233781084418297, -0.09718098491430283, 0.02647344209253788, -0.042893677949905396, -0.010346423834562302, 0.02479790709912777, -0.025468120351433754, 0.028819188475608826, 0.07372350990772247, -0.030997384339571, 0.03568888083100319, -0.04021282121539116, 0.02798142284154892, 0.010723419487476349, 0.022954819723963737, -0.0018116714200004935, 0.045909639447927475, -0.08277139067649841, 0.005654928274452686, 0.04959581419825554, 0.0052151004783809185, 0.016504012048244476, -0.01156118605285883, -0.04523942619562149, -0.06869690120220184, -0.010136982426047325, 0.0234574805945158, -0.10924483090639114, 0.04356389120221138, 0.08578735589981079, -0.041050590574741364, -0.0003298708179499954, -0.07037243992090225, 0.022117052227258682, -0.011142303235828876, -0.0373644158244133, -0.015247361734509468, -0.014409594237804413, 0.007162909023463726, -0.024127693846821785, 0.005319821182638407, 0.0810958594083786, -0.018095770850777626, 0.06165966019034386, 0.05763837695121765, -0.0117287402972579, -0.006199476774781942, 0.030997384339571, -0.06232987344264984, -0.0234574805945158, 0.020860401913523674, -0.017760662361979485, -0.01558246836066246, 0.04959581419825554, -0.04825538769364357, 0.007875011302530766, -0.01231517642736435, 0.014996031299233437, 0.022619713097810745, 0.010346423834562302, 0.0005445486167445779, 0.06735647469758987, 0.005173211917281151, 0.01156118605285883, 0.009341103956103325, 0.05696816369891167, -0.009759986773133278, 0.03233781084418297, 0.047585174441337585, -0.05864369869232178, -0.032002706080675125, -0.035018667578697205, -0.02932184934616089, 0.0006335614016279578, 0.02948940359055996, -0.06031923368573189, -0.09047885239124298, -0.004565830808132887, -0.061324555426836014, -0.04993092268705368, -0.06668626517057419, 0.0007801706669852138, 0.04959581419825554, -0.011812516488134861, 0.026808548718690872, -0.014577148482203484, 0.004167891573160887, 0.022117052227258682, 0.02982451021671295, -0.016420235857367516, -0.020692847669124603, 0.01323672104626894, -0.06300009042024612, 0.03568888083100319, 0.061994768679142, -0.017844440415501595, 0.05495752394199371, -0.0469149611890316, 0.011393632739782333, 0.024462800472974777, 0.0055292630568146706, -0.05696816369891167, -0.068361796438694, -0.038202181458473206, 0.05294688418507576, 0.044234104454517365, -0.028819188475608826, -0.004775272682309151, -0.04993092268705368, -0.06031923368573189, 0.01683911867439747, -0.02513301372528076, -0.009759986773133278, 0.03217025846242905, 0.03150004521012306, 0.016420235857367516, 0.016420235857367516, 0.047585174441337585, -0.05495752394199371, -0.0010995693737640977, -0.0045239427126944065, -6.348703755065799e-05, -0.0018221435602754354, -0.01876598410308361, 0.011980069801211357, 0.03686175495386124, -0.05026602745056152, -0.03686175495386124, -0.019017314538359642, -0.06031923368573189, 0.013906934298574924, 0.08042564243078232, 0.015833798795938492, 0.041050590574741364, 0.04490431770682335, -0.023960139602422714, -0.02781386859714985, 0.03250536322593689, -0.03233781084418297, -0.02178194560110569, -0.012063846923410892, -0.004482054151594639, -0.0266409944742918, -0.09047885239124298, -0.056633058935403824, 0.03116493672132492, -0.01156118605285883, 0.00023038596555124968, 0.0133204972371459, -0.02496546134352684, 0.0015812854981049895, 0.015079808421432972, 0.025970781221985817, -0.020441517233848572, 0.005173211917281151, 0.007246685680001974, -0.012147623114287853, 0.04322878271341324, -0.030997384339571, -0.033343132585287094, -0.011142303235828876, -0.03401334583759308, 0.030997384339571, 0.04523942619562149, 0.013739380985498428, 0.00586437014862895, 0.002974073402583599, -0.06266497820615768, 0.03284047171473503, 0.008000676520168781, 0.0018116714200004935, 0.0058224815875291824, -0.05428731068968773, -0.06936711817979813, 0.0030787941068410873, 0.011142303235828876, -0.07372350990772247, -0.06903201341629028, -0.008796554990112782, -0.030327169224619865, -0.04523942619562149, 0.09584055840969086, -0.051941562443971634, -0.021446838974952698, -0.019938858225941658, 0.040883034467697144, -0.0723830834031105, -0.059984125196933746, 0.02613833360373974, -0.012650283984839916, 0.020692847669124603, -0.023792587220668793, 0.016085129231214523, -0.013152943924069405, -0.07673946768045425, -0.05227666720747948, -0.05127134919166565, 0.03568888083100319, -0.012901613488793373, 0.03133248910307884, -0.014577148482203484, -0.018011992797255516, 0.017760662361979485, -0.034851111471652985, -0.07975543290376663, 0.034851111471652985, -0.02178194560110569, -0.01834709942340851, 0.03133248910307884, 0.06031923368573189, -0.0810958594083786, -0.01575002260506153, 0.0059062582440674305, 0.019352421164512634, 0.02781386859714985, 0.009843763895332813, -0.018933536484837532, -0.030662277713418007, 0.0022724433802068233, -0.036526646465063095, 0.023792587220668793, 0.05395220220088959, -0.034851111471652985, 0.018095770850777626, -0.030159616842865944, 0.028651636093854904, -0.006869690492749214, 0.050601135939359665, 0.0016860063187777996, -0.007665569428354502, -0.025970781221985817, 0.055292632430791855, 0.05261177569627762, -0.03753196820616722, 0.04624474421143532, -0.04138569533824921, -0.01868220791220665, 0.047585174441337585, -0.11460654437541962, 0.11326611787080765, -0.0643405169248581, 0.0024609409738332033, 0.007581792306154966, 0.041050590574741364, 0.028316529467701912, 0.036359094083309174, -0.07506393641233444, 0.05864369869232178, 0.02161439135670662, 0.0643405169248581, -0.04523942619562149, 0.008042564615607262, 0.0022933874279260635, -0.01725800335407257, -0.036359094083309174, 0.015163584612309933, -0.029154296964406967, 0.03468355908989906, 0.03233781084418297, 0.01734177954494953, -0.05730327218770981, 0.044234104454517365, -0.06300009042024612, 0.022787265479564667, -0.056633058935403824, 0.039877716451883316, -0.01700667291879654, -0.0898086354136467, 0.018933536484837532, 0.040883034467697144, 0.016168905422091484, 0.03903994709253311, 0.0019792248494923115, -0.044234104454517365, -0.011812516488134861, 0.03451600670814514, 0.01734177954494953, -0.03434845060110092, -0.028819188475608826, 0.03133248910307884, -0.03686175495386124, -0.056633058935403824, -0.031667597591876984, 0.034851111471652985, 0.08210118114948273, 0.006199476774781942, 0.03082983009517193, 0.07171286642551422, 0.0024190526455640793, 0.07104264944791794, 0.028986742720007896, -0.0009843764128163457, 0.0014870367012917995, -0.005403597839176655, 0.06367029994726181, -0.01692289672791958, -0.045574530959129333, 0.04624474421143532, 0.07640436291694641, -0.03535377234220505, -0.025970781221985817, -0.0027646315284073353, -0.10991504788398743, -0.008335783146321774, 2.2416816136683337e-05, -0.027311207726597786, -0.003434845246374607, 0.08411181718111038, -0.017425555735826492, -0.028819188475608826, -0.018933536484837532, 0.027311207726597786], 'embeddingsByType': {'float': [-0.08712778240442276, 0.025970781221985817, -0.029154296964406967, -0.014409594237804413, 0.07807989418506622, -0.025468120351433754, 0.042558569461107254, 0.04523942619562149, -0.0405479297041893, 0.03451600670814514, -0.08578735589981079, 0.06300009042024612, 0.08411181718111038, 0.028316529467701912, -0.048925600945949554, -0.0246303528547287, 0.015079808421432972, 0.028986742720007896, 0.04222346469759941, -0.02948940359055996, -0.007246685680001974, 0.007875011302530766, 0.011980069801211357, 0.01080719567835331, -0.144766166806221, -0.019687527790665627, -0.06568094342947006, -0.045574530959129333, 0.10455333441495895, -0.0707075446844101, 0.03317558020353317, 0.06266497820615768, 0.053617097437381744, -0.004942825995385647, 0.013739380985498428, 0.07539904117584229, 0.07673946768045425, 0.021446838974952698, 0.0016964784590527415, 0.033343132585287094, 0.04825538769364357, 0.025635674595832825, -0.0016650621546432376, 0.06702136993408203, 0.05495752394199371, -0.058308593928813934, -0.013571827672421932, 0.03267291933298111, 0.027478761970996857, 0.033343132585287094, 0.04624474421143532, -0.07573414593935013, -0.024127693846821785, 0.15615978837013245, -0.012985390610992908, -0.03434845060110092, 0.008712777867913246, 0.061324555426836014, -0.07003733515739441, -0.05093624070286751, -0.08846820890903473, -0.023792587220668793, 0.05227666720747948, 0.048925600945949554, 0.05026602745056152, -0.01834709942340851, -0.04389899596571922, -0.006576471962034702, -0.13806402683258057, -0.04859049245715141, -0.0469149611890316, -0.031667597591876984, 0.06769158691167831, 0.08277139067649841, 0.01884976029396057, -0.053617097437381744, 0.044234104454517365, 0.013739380985498428, -0.018933536484837532, -0.033343132585287094, -0.07171286642551422, 0.06735647469758987, 0.045909639447927475, -0.0117287402972579, -0.020525295287370682, -0.05596284568309784, 0.020441517233848572, 0.03367823734879494, 0.022117052227258682, 0.019771303981542587, -0.006157588213682175, 0.03702930733561516, 0.042893677949905396, -0.05797348544001579, 0.009089773520827293, -0.10053205490112305, -0.03267291933298111, -0.09584055840969086, -0.042558569461107254, -0.0059900349006056786, -0.07439371943473816, 0.013906934298574924, 0.09047885239124298, -0.009969429112970829, 0.12197889387607574, 0.03267291933298111, 0.0556277371942997, -0.005948146805167198, 0.027143655344843864, 0.019017314538359642, -0.012650283984839916, 0.09651077538728714, 0.05596284568309784, -0.0532819889485836, 0.041050590574741364, -0.02027396485209465, 0.028651636093854904, 0.0246303528547287, -0.02814897522330284, 0.00929921492934227, -0.044569212943315506, -0.0532819889485836, 0.034180898219347, 0.07506393641233444, 0.0025133013259619474, -0.01080719567835331, -0.026976101100444794, -0.09114906191825867, 0.03836973384022713, 0.01683911867439747, 0.0985214114189148, -0.019184866920113564, 0.02932184934616089, 0.010430200956761837, -0.0898086354136467, 0.04959581419825554, 0.003686175448819995, 0.0266409944742918, 0.0013613716000691056, -0.08210118114948273, 0.004607719369232655, 0.019938858225941658, 0.016420235857367516, 0.0007435183506458998, -0.041050590574741364, 0.016001353040337563, -0.012734060175716877, 0.0011100413976237178, -0.0707075446844101, -0.029154296964406967, 0.023960139602422714, -0.02010641060769558, 0.01683911867439747, 0.0007435183506458998, -0.04490431770682335, -0.06970222294330597, -0.06769158691167831, 0.011477409861981869, 0.004167891573160887, -0.07372350990772247, -0.0016231738263741136, 0.0014870367012917995, 0.01734177954494953, -0.023625032976269722, 0.02513301372528076, -0.010430200956761837, 0.05462241545319557, -0.014158264733850956, -0.017593109980225563, -0.005277933087199926, -0.04205590859055519, -0.01575002260506153, 0.01843087747693062, -0.0492607057094574, 0.007875011302530766, 0.03384579345583916, 0.09919162839651108, 0.03367823734879494, -0.0029112407937645912, -0.031667597591876984, 0.003162570996209979, 0.03267291933298111, 0.00628325343132019, -0.03602398559451103, -0.022452158853411674, -0.010890972800552845, 0.13404273986816406, -0.011980069801211357, 0.022452158853411674, 0.061994768679142, -0.024462800472974777, -0.03434845060110092, 0.01005320530384779, -0.05730327218770981, 0.06300009042024612, 0.039877716451883316, 0.05462241545319557, 0.026808548718690872, 0.08712778240442276, 0.03250536322593689, 0.03233781084418297, -0.09718098491430283, 0.02647344209253788, -0.042893677949905396, -0.010346423834562302, 0.02479790709912777, -0.025468120351433754, 0.028819188475608826, 0.07372350990772247, -0.030997384339571, 0.03568888083100319, -0.04021282121539116, 0.02798142284154892, 0.010723419487476349, 0.022954819723963737, -0.0018116714200004935, 0.045909639447927475, -0.08277139067649841, 0.005654928274452686, 0.04959581419825554, 0.0052151004783809185, 0.016504012048244476, -0.01156118605285883, -0.04523942619562149, -0.06869690120220184, -0.010136982426047325, 0.0234574805945158, -0.10924483090639114, 0.04356389120221138, 0.08578735589981079, -0.041050590574741364, -0.0003298708179499954, -0.07037243992090225, 0.022117052227258682, -0.011142303235828876, -0.0373644158244133, -0.015247361734509468, -0.014409594237804413, 0.007162909023463726, -0.024127693846821785, 0.005319821182638407, 0.0810958594083786, -0.018095770850777626, 0.06165966019034386, 0.05763837695121765, -0.0117287402972579, -0.006199476774781942, 0.030997384339571, -0.06232987344264984, -0.0234574805945158, 0.020860401913523674, -0.017760662361979485, -0.01558246836066246, 0.04959581419825554, -0.04825538769364357, 0.007875011302530766, -0.01231517642736435, 0.014996031299233437, 0.022619713097810745, 0.010346423834562302, 0.0005445486167445779, 0.06735647469758987, 0.005173211917281151, 0.01156118605285883, 0.009341103956103325, 0.05696816369891167, -0.009759986773133278, 0.03233781084418297, 0.047585174441337585, -0.05864369869232178, -0.032002706080675125, -0.035018667578697205, -0.02932184934616089, 0.0006335614016279578, 0.02948940359055996, -0.06031923368573189, -0.09047885239124298, -0.004565830808132887, -0.061324555426836014, -0.04993092268705368, -0.06668626517057419, 0.0007801706669852138, 0.04959581419825554, -0.011812516488134861, 0.026808548718690872, -0.014577148482203484, 0.004167891573160887, 0.022117052227258682, 0.02982451021671295, -0.016420235857367516, -0.020692847669124603, 0.01323672104626894, -0.06300009042024612, 0.03568888083100319, 0.061994768679142, -0.017844440415501595, 0.05495752394199371, -0.0469149611890316, 0.011393632739782333, 0.024462800472974777, 0.0055292630568146706, -0.05696816369891167, -0.068361796438694, -0.038202181458473206, 0.05294688418507576, 0.044234104454517365, -0.028819188475608826, -0.004775272682309151, -0.04993092268705368, -0.06031923368573189, 0.01683911867439747, -0.02513301372528076, -0.009759986773133278, 0.03217025846242905, 0.03150004521012306, 0.016420235857367516, 0.016420235857367516, 0.047585174441337585, -0.05495752394199371, -0.0010995693737640977, -0.0045239427126944065, -6.348703755065799e-05, -0.0018221435602754354, -0.01876598410308361, 0.011980069801211357, 0.03686175495386124, -0.05026602745056152, -0.03686175495386124, -0.019017314538359642, -0.06031923368573189, 0.013906934298574924, 0.08042564243078232, 0.015833798795938492, 0.041050590574741364, 0.04490431770682335, -0.023960139602422714, -0.02781386859714985, 0.03250536322593689, -0.03233781084418297, -0.02178194560110569, -0.012063846923410892, -0.004482054151594639, -0.0266409944742918, -0.09047885239124298, -0.056633058935403824, 0.03116493672132492, -0.01156118605285883, 0.00023038596555124968, 0.0133204972371459, -0.02496546134352684, 0.0015812854981049895, 0.015079808421432972, 0.025970781221985817, -0.020441517233848572, 0.005173211917281151, 0.007246685680001974, -0.012147623114287853, 0.04322878271341324, -0.030997384339571, -0.033343132585287094, -0.011142303235828876, -0.03401334583759308, 0.030997384339571, 0.04523942619562149, 0.013739380985498428, 0.00586437014862895, 0.002974073402583599, -0.06266497820615768, 0.03284047171473503, 0.008000676520168781, 0.0018116714200004935, 0.0058224815875291824, -0.05428731068968773, -0.06936711817979813, 0.0030787941068410873, 0.011142303235828876, -0.07372350990772247, -0.06903201341629028, -0.008796554990112782, -0.030327169224619865, -0.04523942619562149, 0.09584055840969086, -0.051941562443971634, -0.021446838974952698, -0.019938858225941658, 0.040883034467697144, -0.0723830834031105, -0.059984125196933746, 0.02613833360373974, -0.012650283984839916, 0.020692847669124603, -0.023792587220668793, 0.016085129231214523, -0.013152943924069405, -0.07673946768045425, -0.05227666720747948, -0.05127134919166565, 0.03568888083100319, -0.012901613488793373, 0.03133248910307884, -0.014577148482203484, -0.018011992797255516, 0.017760662361979485, -0.034851111471652985, -0.07975543290376663, 0.034851111471652985, -0.02178194560110569, -0.01834709942340851, 0.03133248910307884, 0.06031923368573189, -0.0810958594083786, -0.01575002260506153, 0.0059062582440674305, 0.019352421164512634, 0.02781386859714985, 0.009843763895332813, -0.018933536484837532, -0.030662277713418007, 0.0022724433802068233, -0.036526646465063095, 0.023792587220668793, 0.05395220220088959, -0.034851111471652985, 0.018095770850777626, -0.030159616842865944, 0.028651636093854904, -0.006869690492749214, 0.050601135939359665, 0.0016860063187777996, -0.007665569428354502, -0.025970781221985817, 0.055292632430791855, 0.05261177569627762, -0.03753196820616722, 0.04624474421143532, -0.04138569533824921, -0.01868220791220665, 0.047585174441337585, -0.11460654437541962, 0.11326611787080765, -0.0643405169248581, 0.0024609409738332033, 0.007581792306154966, 0.041050590574741364, 0.028316529467701912, 0.036359094083309174, -0.07506393641233444, 0.05864369869232178, 0.02161439135670662, 0.0643405169248581, -0.04523942619562149, 0.008042564615607262, 0.0022933874279260635, -0.01725800335407257, -0.036359094083309174, 0.015163584612309933, -0.029154296964406967, 0.03468355908989906, 0.03233781084418297, 0.01734177954494953, -0.05730327218770981, 0.044234104454517365, -0.06300009042024612, 0.022787265479564667, -0.056633058935403824, 0.039877716451883316, -0.01700667291879654, -0.0898086354136467, 0.018933536484837532, 0.040883034467697144, 0.016168905422091484, 0.03903994709253311, 0.0019792248494923115, -0.044234104454517365, -0.011812516488134861, 0.03451600670814514, 0.01734177954494953, -0.03434845060110092, -0.028819188475608826, 0.03133248910307884, -0.03686175495386124, -0.056633058935403824, -0.031667597591876984, 0.034851111471652985, 0.08210118114948273, 0.006199476774781942, 0.03082983009517193, 0.07171286642551422, 0.0024190526455640793, 0.07104264944791794, 0.028986742720007896, -0.0009843764128163457, 0.0014870367012917995, -0.005403597839176655, 0.06367029994726181, -0.01692289672791958, -0.045574530959129333, 0.04624474421143532, 0.07640436291694641, -0.03535377234220505, -0.025970781221985817, -0.0027646315284073353, -0.10991504788398743, -0.008335783146321774, 2.2416816136683337e-05, -0.027311207726597786, -0.003434845246374607, 0.08411181718111038, -0.017425555735826492, -0.028819188475608826, -0.018933536484837532, 0.027311207726597786]}, 'inputTextTokenCount': 9}\n"
     ]
    }
   ],
   "source": [
    "import json\n",
    "import requests\n",
    "from botocore.auth import SigV4Auth\n",
    "from botocore.awsrequest import AWSRequest\n",
    "from botocore.session import Session\n",
    "\n",
    "# Configuration for Amazon Bedrock API\n",
    "region = \"us-east-2\"  # AWS region for Bedrock\n",
    "service = \"bedrock\"\n",
    "endpoint = f\"https://bedrock-runtime.{region}.amazonaws.com\"\n",
    "model_id = \"amazon.titan-embed-text-v2:0\"  # Model ID for Amazon Titan Embedding\n",
    "\n",
    "# Define the payload for the Titan model\n",
    "payload = {\n",
    "    \"inputText\": \"this is where you place your input text\",  # Replace with the text you want to embed\n",
    "    \"dimensions\": 512,\n",
    "    \"normalize\": True\n",
    "}\n",
    "\n",
    "# Function to create a signed request with SigV4Auth\n",
    "def create_signed_request(endpoint, region, service, model_id, payload):\n",
    "    # Initialize a session and get AWS credentials\n",
    "    session = Session()\n",
    "    credentials = session.get_credentials()\n",
    "    \n",
    "    # Define the full endpoint URL for invoking the model\n",
    "    request_url = f\"{endpoint}/model/{model_id}/invoke\"\n",
    "    \n",
    "    # Create an AWSRequest with the payload\n",
    "    aws_request = AWSRequest(\n",
    "        method=\"POST\",\n",
    "        url=request_url,\n",
    "        data=json.dumps(payload),\n",
    "        headers={\n",
    "            \"Content-Type\": \"application/json\",\n",
    "            \"Accept\": \"*/*\"\n",
    "        }\n",
    "    )\n",
    "    \n",
    "    # Sign the request with SigV4Auth\n",
    "    SigV4Auth(credentials, service, region).add_auth(aws_request)\n",
    "    \n",
    "    # Extract signed headers\n",
    "    headers = dict(aws_request.headers.items())\n",
    "    \n",
    "    return request_url, headers, aws_request.body\n",
    "\n",
    "# Generate signed request\n",
    "url, headers, body = create_signed_request(endpoint, region, service, model_id, payload)\n",
    "\n",
    "# Send the API request\n",
    "response = requests.post(url, headers=headers, data=body)\n",
    "\n",
    "# Handle the response\n",
    "if response.status_code == 200:\n",
    "    output = response.json()\n",
    "    print(\"Model Response:\", output)\n",
    "else:\n",
    "    print(f\"Error {response.status_code}: {response.text}\")\n"
   ]
  },
  {
   "cell_type": "code",
   "execution_count": 2,
   "id": "48087c47",
   "metadata": {},
   "outputs": [
    {
     "data": {
      "text/plain": [
       "dict_keys(['embedding', 'embeddingsByType', 'inputTextTokenCount'])"
      ]
     },
     "execution_count": 2,
     "metadata": {},
     "output_type": "execute_result"
    }
   ],
   "source": [
    "output.keys()"
   ]
  },
  {
   "cell_type": "code",
   "execution_count": 3,
   "id": "a538d548",
   "metadata": {},
   "outputs": [
    {
     "data": {
      "text/plain": [
       "512"
      ]
     },
     "execution_count": 3,
     "metadata": {},
     "output_type": "execute_result"
    }
   ],
   "source": [
    "len(output['embedding'])"
   ]
  },
  {
   "cell_type": "markdown",
   "id": "f54a0f7e",
   "metadata": {},
   "source": [
    "## claude 3.5 sonnet"
   ]
  },
  {
   "cell_type": "code",
   "execution_count": null,
   "id": "faf9390a",
   "metadata": {},
   "outputs": [],
   "source": [
    "# Initialize the Bedrock client\n",
    "bedrock = boto3.client(\"bedrock-runtime\", region_name=\"us-east-2\")\n",
    "s3_client = boto3.client(\"s3\")\n",
    "\n",
    "# Define S3 bucket and file key\n",
    "bucket_name = 'sagemaker-studio-423623869859-3no3d9ie4hx'\n",
    "file_key = 'extracted_entities_in_questions_train.json'\n",
    "\n",
    "# Function to get entities\n",
    "def get_entities(question, max_retries=5):\n",
    "    begin_time = time.time()\n",
    "    body = json.dumps({\n",
    "        \"max_tokens\": 256,\n",
    "        \"messages\": [\n",
    "            {\n",
    "                \"role\": \"user\",\n",
    "                \"content\": \"Please extract the entities in this following question.\\\n",
    "                            Please only focus on entities that are helpful to identify\\\n",
    "                            relevant table names and column names in a database.\\\n",
    "                            The table names and column names will be used in a SQL query.\\\n",
    "                            Please return your answer in a json string whose keys are\\\n",
    "                            entities_for_tables and entities_for_columns.\\\n",
    "                            The value for each key will be a list of entities.\\\n",
    "                            Please return the json string only without any extra words.\\\n",
    "                            question: {}\".format(question)\n",
    "            }\n",
    "        ],\n",
    "        \"anthropic_version\": \"bedrock-2023-05-31\"\n",
    "    })\n",
    "\n",
    "    retries = 0\n",
    "    while retries < max_retries:\n",
    "        try:\n",
    "            response = bedrock.invoke_model(\n",
    "                body=body,\n",
    "                modelId=\"us.anthropic.claude-3-5-sonnet-20240620-v1:0\"\n",
    "            )\n",
    "            response_body = json.loads(response.get(\"body\").read())\n",
    "            end_time = time.time()\n",
    "            print(f\"Total time taken is: {end_time - begin_time}\")\n",
    "            return json.loads(response_body.get(\"content\")[0]['text'])\n",
    "\n",
    "        except Exception as e:\n",
    "            print(f\"Request failed with error: {e}. Retrying...\")\n",
    "            retries += 1\n",
    "            time.sleep(2 ** retries)\n",
    "\n",
    "    print(\"Max retries exceeded. Could not complete the request.\")\n",
    "    return {}\n",
    "\n",
    "# Function to upload data to S3\n",
    "def upload_to_s3(data, bucket, key):\n",
    "    with open('extracted_entities.json', 'w') as json_file:\n",
    "        json.dump(data, json_file)\n",
    "    s3_client.upload_file('extracted_entities.json', bucket, key)\n",
    "    print(f\"Uploaded data to S3 at s3://{bucket}/{key}\")\n",
    "\n",
    "# Main loop to process questions and save results\n",
    "questions_entities = {}\n",
    "\n",
    "for ind, row in df_questions_and_sqls.iterrows():\n",
    "    question = row['question']\n",
    "    result = get_entities(question)\n",
    "    questions_entities[question] = result\n",
    "    print(ind)\n",
    "\n",
    "    # Upload to S3 every 10 questions\n",
    "    if (i + 1) % 10 == 0:\n",
    "        upload_to_s3(questions_entities, bucket_name, file_key)\n",
    "\n",
    "# Final upload after all questions are processed\n",
    "upload_to_s3(questions_entities, bucket_name, file_key)"
   ]
  }
 ],
 "metadata": {
  "kernelspec": {
   "display_name": "conda_tensorflow2_p310",
   "language": "python",
   "name": "conda_tensorflow2_p310"
  },
  "language_info": {
   "codemirror_mode": {
    "name": "ipython",
    "version": 3
   },
   "file_extension": ".py",
   "mimetype": "text/x-python",
   "name": "python",
   "nbconvert_exporter": "python",
   "pygments_lexer": "ipython3",
   "version": "3.10.15"
  }
 },
 "nbformat": 4,
 "nbformat_minor": 5
}
