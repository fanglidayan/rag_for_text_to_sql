{
 "cells": [
  {
   "cell_type": "code",
   "execution_count": 1,
   "id": "28cd4399",
   "metadata": {},
   "outputs": [],
   "source": [
    "import boto3\n",
    "import pandas as pd\n",
    "import ast\n",
    "import json\n",
    "import matplotlib.pyplot as plt\n",
    "import time\n",
    "import torch\n",
    "import torch.nn.functional as F\n",
    "import numpy as np\n",
    "import copy\n",
    "# from transformers import pipeline, AutoTokenizer, AutoModelForCausalLM, AutoModelForTokenClassification, AutoModel\n",
    "import os\n",
    "from sklearn.metrics import roc_curve, auc, precision_recall_curve\n",
    "# from huggingface_hub import login\n",
    "# from sentence_transformers import SentenceTransformer\n",
    "\n",
    "\n",
    "# Configure pandas to display all columns and their full content without truncation\n",
    "pd.set_option('display.max_columns', None)  # Show all columns\n",
    "pd.set_option('display.max_colwidth', None)  # Do not truncate column contents\n",
    "pd.set_option('display.expand_frame_repr', False)  # Avoid wrapping to the next line"
   ]
  },
  {
   "cell_type": "markdown",
   "id": "1c58aee7",
   "metadata": {},
   "source": [
    "## load questions and sql queries in spider train"
   ]
  },
  {
   "cell_type": "code",
   "execution_count": 2,
   "id": "8dfe8efe",
   "metadata": {},
   "outputs": [],
   "source": [
    "# Define your S3 bucket and file key\n",
    "bucket_name = 'sagemaker-studio-423623869859-3no3d9ie4hx'\n",
    "\n",
    "# Initialize the S3 client\n",
    "s3_client = boto3.client('s3')\n",
    "\n",
    "# Load the file from S3\n",
    "obj = s3_client.get_object(Bucket=bucket_name, Key='df_question_entities_tables.csv')\n",
    "df_question_entities_tables = pd.read_csv(obj['Body'])\n",
    "columns_whose_values_are_lists = ['entities_for_tables', 'entities_for_columns', 'tables', 'entities']\n",
    "for column in columns_whose_values_are_lists:\n",
    "    df_question_entities_tables[column] = df_question_entities_tables[column].apply(ast.literal_eval)\n",
    "\n",
    "obj = s3_client.get_object(Bucket=bucket_name, Key='df_schema_table.csv')\n",
    "df_schema_table = pd.read_csv(obj['Body'])\n",
    "\n",
    "obj = s3_client.get_object(Bucket=bucket_name, Key='embeddings.json')\n",
    "embedded_dict = json.load(obj['Body'])\n",
    "for key in embedded_dict:\n",
    "    embedded_dict[key] = np.array(embedded_dict[key])"
   ]
  },
  {
   "cell_type": "code",
   "execution_count": 3,
   "id": "8067d12d",
   "metadata": {},
   "outputs": [
    {
     "name": "stdout",
     "output_type": "stream",
     "text": [
      "what is the first name and last name employee helps the customer with first name leonie?\n",
      "768\n",
      "number of bedrooms\n",
      "768\n",
      "what are the title and director of the films without any schedule?\n",
      "768\n",
      "uganda\n",
      "768\n",
      "art instructors\n",
      "768\n"
     ]
    }
   ],
   "source": [
    "ct = 0\n",
    "ct_max = 5\n",
    "for key in embedded_dict:\n",
    "    print(key)\n",
    "    print(len(embedded_dict[key]))\n",
    "    ct += 1\n",
    "    if ct == ct_max:\n",
    "        break"
   ]
  },
  {
   "cell_type": "code",
   "execution_count": 4,
   "id": "ab90e187",
   "metadata": {},
   "outputs": [
    {
     "data": {
      "text/plain": [
       "(7000, 6)"
      ]
     },
     "execution_count": 4,
     "metadata": {},
     "output_type": "execute_result"
    }
   ],
   "source": [
    "df_question_entities_tables.shape"
   ]
  },
  {
   "cell_type": "code",
   "execution_count": 5,
   "id": "4a0204a1",
   "metadata": {},
   "outputs": [
    {
     "data": {
      "text/html": [
       "<div>\n",
       "<style scoped>\n",
       "    .dataframe tbody tr th:only-of-type {\n",
       "        vertical-align: middle;\n",
       "    }\n",
       "\n",
       "    .dataframe tbody tr th {\n",
       "        vertical-align: top;\n",
       "    }\n",
       "\n",
       "    .dataframe thead th {\n",
       "        text-align: right;\n",
       "    }\n",
       "</style>\n",
       "<table border=\"1\" class=\"dataframe\">\n",
       "  <thead>\n",
       "    <tr style=\"text-align: right;\">\n",
       "      <th></th>\n",
       "      <th>entities_for_tables</th>\n",
       "      <th>tables</th>\n",
       "    </tr>\n",
       "  </thead>\n",
       "  <tbody>\n",
       "    <tr>\n",
       "      <th>5097</th>\n",
       "      <td>[customers]</td>\n",
       "      <td>[CUSTOMERS]</td>\n",
       "    </tr>\n",
       "    <tr>\n",
       "      <th>1495</th>\n",
       "      <td>[debates]</td>\n",
       "      <td>[debate]</td>\n",
       "    </tr>\n",
       "    <tr>\n",
       "      <th>5338</th>\n",
       "      <td>[products]</td>\n",
       "      <td>[Manufacturers, products]</td>\n",
       "    </tr>\n",
       "    <tr>\n",
       "      <th>6600</th>\n",
       "      <td>[stations]</td>\n",
       "      <td>[station]</td>\n",
       "    </tr>\n",
       "    <tr>\n",
       "      <th>2668</th>\n",
       "      <td>[parties]</td>\n",
       "      <td>[party]</td>\n",
       "    </tr>\n",
       "    <tr>\n",
       "      <th>6873</th>\n",
       "      <td>[routes]</td>\n",
       "      <td>[routes, airports]</td>\n",
       "    </tr>\n",
       "    <tr>\n",
       "      <th>6059</th>\n",
       "      <td>[orders]</td>\n",
       "      <td>[order_items]</td>\n",
       "    </tr>\n",
       "    <tr>\n",
       "      <th>2824</th>\n",
       "      <td>[restaurant]</td>\n",
       "      <td>[Restaurant_Type]</td>\n",
       "    </tr>\n",
       "    <tr>\n",
       "      <th>756</th>\n",
       "      <td>[tracks]</td>\n",
       "      <td>[track]</td>\n",
       "    </tr>\n",
       "    <tr>\n",
       "      <th>450</th>\n",
       "      <td>[allergy]</td>\n",
       "      <td>[Allergy_type]</td>\n",
       "    </tr>\n",
       "  </tbody>\n",
       "</table>\n",
       "</div>"
      ],
      "text/plain": [
       "     entities_for_tables                     tables\n",
       "5097         [customers]                [CUSTOMERS]\n",
       "1495           [debates]                   [debate]\n",
       "5338          [products]  [Manufacturers, products]\n",
       "6600          [stations]                  [station]\n",
       "2668           [parties]                    [party]\n",
       "6873            [routes]         [routes, airports]\n",
       "6059            [orders]              [order_items]\n",
       "2824        [restaurant]          [Restaurant_Type]\n",
       "756             [tracks]                    [track]\n",
       "450            [allergy]             [Allergy_type]"
      ]
     },
     "execution_count": 5,
     "metadata": {},
     "output_type": "execute_result"
    }
   ],
   "source": [
    "df_question_entities_tables.sample(frac=1)[['entities_for_tables', 'tables']].head(10)"
   ]
  },
  {
   "cell_type": "code",
   "execution_count": 6,
   "id": "f07e5982",
   "metadata": {},
   "outputs": [
    {
     "data": {
      "text/plain": [
       "(749, 5)"
      ]
     },
     "execution_count": 6,
     "metadata": {},
     "output_type": "execute_result"
    }
   ],
   "source": [
    "df_schema_table.shape"
   ]
  },
  {
   "cell_type": "code",
   "execution_count": 7,
   "id": "78b0fb05",
   "metadata": {},
   "outputs": [
    {
     "data": {
      "text/html": [
       "<div>\n",
       "<style scoped>\n",
       "    .dataframe tbody tr th:only-of-type {\n",
       "        vertical-align: middle;\n",
       "    }\n",
       "\n",
       "    .dataframe tbody tr th {\n",
       "        vertical-align: top;\n",
       "    }\n",
       "\n",
       "    .dataframe thead th {\n",
       "        text-align: right;\n",
       "    }\n",
       "</style>\n",
       "<table border=\"1\" class=\"dataframe\">\n",
       "  <thead>\n",
       "    <tr style=\"text-align: right;\">\n",
       "      <th></th>\n",
       "      <th>database</th>\n",
       "      <th>table</th>\n",
       "      <th>processed_database</th>\n",
       "      <th>processed_table</th>\n",
       "      <th>database_and_table</th>\n",
       "    </tr>\n",
       "  </thead>\n",
       "  <tbody>\n",
       "    <tr>\n",
       "      <th>0</th>\n",
       "      <td>academic</td>\n",
       "      <td>author</td>\n",
       "      <td>academic</td>\n",
       "      <td>author</td>\n",
       "      <td>academic author</td>\n",
       "    </tr>\n",
       "    <tr>\n",
       "      <th>1</th>\n",
       "      <td>academic</td>\n",
       "      <td>conference</td>\n",
       "      <td>academic</td>\n",
       "      <td>conference</td>\n",
       "      <td>academic conference</td>\n",
       "    </tr>\n",
       "    <tr>\n",
       "      <th>2</th>\n",
       "      <td>academic</td>\n",
       "      <td>domain</td>\n",
       "      <td>academic</td>\n",
       "      <td>domain</td>\n",
       "      <td>academic domain</td>\n",
       "    </tr>\n",
       "  </tbody>\n",
       "</table>\n",
       "</div>"
      ],
      "text/plain": [
       "   database       table processed_database processed_table   database_and_table\n",
       "0  academic      author           academic          author      academic author\n",
       "1  academic  conference           academic      conference  academic conference\n",
       "2  academic      domain           academic          domain      academic domain"
      ]
     },
     "execution_count": 7,
     "metadata": {},
     "output_type": "execute_result"
    }
   ],
   "source": [
    "df_schema_table.head(3)"
   ]
  },
  {
   "cell_type": "markdown",
   "id": "ccff66ca",
   "metadata": {},
   "source": [
    "## get corpus for retrieval"
   ]
  },
  {
   "cell_type": "code",
   "execution_count": 8,
   "id": "61fe52dd",
   "metadata": {},
   "outputs": [
    {
     "data": {
      "text/plain": [
       "table              0\n",
       "processed_table    0\n",
       "embedding          0\n",
       "dtype: int64"
      ]
     },
     "execution_count": 8,
     "metadata": {},
     "output_type": "execute_result"
    }
   ],
   "source": [
    "all_tables = []\n",
    "for ind, row in df_question_entities_tables.iterrows():\n",
    "    all_tables += row['tables']\n",
    "    \n",
    "all_tables = list(set(all_tables))\n",
    "all_tables = [[ele] for ele in all_tables]\n",
    "df_all_tables = pd.DataFrame(all_tables, columns=['table'])\n",
    "df_all_tables['processed_table'] = df_all_tables['table'].apply(lambda x: ' '.join(segment for segment in x.split('_') if not segment.isdigit())\n",
    ")\n",
    "df_all_tables['processed_table'] = df_all_tables['processed_table'].apply(lambda x : x.lower())\n",
    "df_all_tables['embedding'] = df_all_tables['processed_table'].map(embedded_dict)\n",
    "df_all_tables.isna().sum()"
   ]
  },
  {
   "cell_type": "code",
   "execution_count": 9,
   "id": "1b49f950",
   "metadata": {},
   "outputs": [],
   "source": [
    "search_corpus = df_all_tables[['embedding', 'processed_table', 'table']]\\\n",
    ".drop_duplicates(subset=['table']).values.tolist()"
   ]
  },
  {
   "cell_type": "code",
   "execution_count": 10,
   "id": "82eb21fa",
   "metadata": {},
   "outputs": [
    {
     "name": "stdout",
     "output_type": "stream",
     "text": [
      "no entities for tables\n",
      "index is None\n",
      "no entities for tables\n",
      "index is None\n",
      "no entities for tables\n",
      "index is None\n",
      "no entities for tables\n",
      "index is None\n",
      "999\n",
      "1999\n",
      "no entities for tables\n",
      "index is None\n",
      "2999\n",
      "3999\n",
      "4999\n",
      "5999\n",
      "no entities for tables\n",
      "index is None\n",
      "6999\n"
     ]
    }
   ],
   "source": [
    "def cosine_similarity(vec1, vec2):\n",
    "    \n",
    "    dot_product = np.dot(vec1, vec2)\n",
    "    norm_a = np.linalg.norm(vec1)\n",
    "    norm_b = np.linalg.norm(vec2)\n",
    "    \n",
    "    # Calculate cosine similarity\n",
    "    result = dot_product / (norm_a * norm_b)\n",
    "    return result\n",
    "\n",
    "def search_for_a_single_entity(entity, search_corpus, embedded_dict):\n",
    "    \n",
    "    entity = entity.lower()\n",
    "    search_corpus_copy = copy.deepcopy(search_corpus)\n",
    "    entity_embedding = embedded_dict[entity]\n",
    "    for ind, ele in enumerate(search_corpus_copy):\n",
    "        document_embedding = ele[0]\n",
    "        search_corpus_copy[ind].append(cosine_similarity(entity_embedding, document_embedding))\n",
    "    return search_corpus_copy\n",
    "\n",
    "def merge_and_sort_multiple_search_corpus_copies(list_of_search_corpus_copies):\n",
    "    \n",
    "    if list_of_search_corpus_copies == []:\n",
    "        return None\n",
    "    \n",
    "    result = []\n",
    "    for ind, ele in enumerate(list_of_search_corpus_copies[0]):\n",
    "        result.append([])\n",
    "        for search_corpus_copy in list_of_search_corpus_copies:\n",
    "            result[-1].append(search_corpus_copy[ind][-1])\n",
    "            \n",
    "    search_corpus_copy_merged_and_sorted = []\n",
    "    #print(result)\n",
    "    for ind, ele in enumerate(list_of_search_corpus_copies[0]):\n",
    "        search_corpus_copy_merged_and_sorted.append(ele[:-1]+[max(result[ind])])\n",
    "        \n",
    "    search_corpus_copy_merged_and_sorted.sort(key=lambda x: x[-1], reverse=True)\n",
    "        \n",
    "    return search_corpus_copy_merged_and_sorted\n",
    "        \n",
    "\n",
    "def find_index_of_a_table_from_ranked_list(target_table, search_corpus_copy_merged_and_sorted):\n",
    "    \n",
    "    if not search_corpus_copy_merged_and_sorted:\n",
    "        return None\n",
    "    \n",
    "    list_of_sorted_tables = [ele[2] for ele in search_corpus_copy_merged_and_sorted]\n",
    "    try:\n",
    "        index = list_of_sorted_tables.index(target_table)\n",
    "    except:\n",
    "        index = None\n",
    "        \n",
    "    return index\n",
    "\n",
    "def generate_list_of_similarity_scores_and_truth_labels(ground_truth_tables, search_corpus_copy_merged_and_sorted):\n",
    "    \n",
    "    list_of_similarity_scores_and_truth_labels = []\n",
    "    for ele in search_corpus_copy_merged_and_sorted:\n",
    "        table = ele[-2]\n",
    "        similarity_score = ele[-1]\n",
    "        if table in ground_truth_tables:\n",
    "            list_of_similarity_scores_and_truth_labels.append([similarity_score, 1])\n",
    "        else:\n",
    "            list_of_similarity_scores_and_truth_labels.append([similarity_score, 0])\n",
    "    \n",
    "    return list_of_similarity_scores_and_truth_labels\n",
    "\n",
    "####################################################################################################\n",
    "\n",
    "\n",
    "df_question_entities_tables['ground_truth_table_indices'] = None\n",
    "df_question_entities_tables['scores_and_truth_labels'] = None\n",
    "\n",
    "for ind, row in df_question_entities_tables.iterrows():\n",
    "    \n",
    "    if ind % 1000 == 999:\n",
    "        print(ind)\n",
    "        \n",
    "    ground_truth_tables = row['tables']\n",
    "    entities_for_tables = row['entities_for_tables']\n",
    "    list_of_search_corpus_copies = []\n",
    "    \n",
    "    if entities_for_tables == []:\n",
    "        print('no entities for tables')\n",
    "    for entity in entities_for_tables:\n",
    "        list_of_search_corpus_copies.append(search_for_a_single_entity(entity, search_corpus, embedded_dict))\n",
    "        \n",
    "    search_corpus_copy_merged_and_sorted = merge_and_sort_multiple_search_corpus_copies(list_of_search_corpus_copies)\n",
    "    #print(type(ground_truth_tables))\n",
    "    \n",
    "    ground_truth_table_indices = []\n",
    "    #print(ground_truth_tables)\n",
    "    flag_found_indices_for_all_ground_truth_tables = True\n",
    "    for ground_truth_table in ground_truth_tables:\n",
    "        index = find_index_of_a_table_from_ranked_list(ground_truth_table, search_corpus_copy_merged_and_sorted)\n",
    "        ground_truth_table_indices.append(index)\n",
    "        # index would be none if no entities for tables from the original question\n",
    "        if index is None:\n",
    "            print('index is None')\n",
    "            flag_found_indices_for_all_ground_truth_tables = False\n",
    "            break  \n",
    "    if flag_found_indices_for_all_ground_truth_tables:  \n",
    "        df_question_entities_tables.loc[ind, 'ground_truth_table_indices'] = ground_truth_table_indices\n",
    "        list_of_similarity_scores_and_truth_labels = \\\n",
    "        generate_list_of_similarity_scores_and_truth_labels(ground_truth_tables, search_corpus_copy_merged_and_sorted)\n",
    "        df_question_entities_tables.loc[ind, 'scores_and_truth_labels'] = list_of_similarity_scores_and_truth_labels\n",
    "    else:\n",
    "        continue"
   ]
  },
  {
   "cell_type": "code",
   "execution_count": 11,
   "id": "818a55c7",
   "metadata": {},
   "outputs": [
    {
     "data": {
      "text/plain": [
       "616"
      ]
     },
     "execution_count": 11,
     "metadata": {},
     "output_type": "execute_result"
    }
   ],
   "source": [
    "corpus_size = len(search_corpus)\n",
    "corpus_size"
   ]
  },
  {
   "cell_type": "code",
   "execution_count": 12,
   "id": "6465910c",
   "metadata": {},
   "outputs": [
    {
     "data": {
      "text/html": [
       "<div>\n",
       "<style scoped>\n",
       "    .dataframe tbody tr th:only-of-type {\n",
       "        vertical-align: middle;\n",
       "    }\n",
       "\n",
       "    .dataframe tbody tr th {\n",
       "        vertical-align: top;\n",
       "    }\n",
       "\n",
       "    .dataframe thead th {\n",
       "        text-align: right;\n",
       "    }\n",
       "</style>\n",
       "<table border=\"1\" class=\"dataframe\">\n",
       "  <thead>\n",
       "    <tr style=\"text-align: right;\">\n",
       "      <th></th>\n",
       "      <th>entities_for_tables</th>\n",
       "      <th>tables</th>\n",
       "      <th>ground_truth_table_indices</th>\n",
       "    </tr>\n",
       "  </thead>\n",
       "  <tbody>\n",
       "    <tr>\n",
       "      <th>5922</th>\n",
       "      <td>[tourist attractions, royal family]</td>\n",
       "      <td>[TOURIST_ATTRACTIONS, ROYAL_FAMILY]</td>\n",
       "      <td>[2, 1]</td>\n",
       "    </tr>\n",
       "    <tr>\n",
       "      <th>1066</th>\n",
       "      <td>[teams, match seasons]</td>\n",
       "      <td>[match_season]</td>\n",
       "      <td>[0]</td>\n",
       "    </tr>\n",
       "    <tr>\n",
       "      <th>5099</th>\n",
       "      <td>[customer]</td>\n",
       "      <td>[CUSTOMERS]</td>\n",
       "      <td>[3]</td>\n",
       "    </tr>\n",
       "    <tr>\n",
       "      <th>6127</th>\n",
       "      <td>[order]</td>\n",
       "      <td>[customers, customer_orders]</td>\n",
       "      <td>[67, 8]</td>\n",
       "    </tr>\n",
       "    <tr>\n",
       "      <th>1592</th>\n",
       "      <td>[account, transactions]</td>\n",
       "      <td>[Financial_transactions]</td>\n",
       "      <td>[6]</td>\n",
       "    </tr>\n",
       "    <tr>\n",
       "      <th>2158</th>\n",
       "      <td>[races]</td>\n",
       "      <td>[races]</td>\n",
       "      <td>[0]</td>\n",
       "    </tr>\n",
       "    <tr>\n",
       "      <th>372</th>\n",
       "      <td>[employees]</td>\n",
       "      <td>[Employee]</td>\n",
       "      <td>[4]</td>\n",
       "    </tr>\n",
       "    <tr>\n",
       "      <th>1883</th>\n",
       "      <td>[elimination]</td>\n",
       "      <td>[elimination]</td>\n",
       "      <td>[1]</td>\n",
       "    </tr>\n",
       "    <tr>\n",
       "      <th>6705</th>\n",
       "      <td>[lessons]</td>\n",
       "      <td>[Staff, Lessons]</td>\n",
       "      <td>[166, 0]</td>\n",
       "    </tr>\n",
       "    <tr>\n",
       "      <th>2634</th>\n",
       "      <td>[rooms]</td>\n",
       "      <td>[Rooms]</td>\n",
       "      <td>[0]</td>\n",
       "    </tr>\n",
       "  </tbody>\n",
       "</table>\n",
       "</div>"
      ],
      "text/plain": [
       "                      entities_for_tables                               tables ground_truth_table_indices\n",
       "5922  [tourist attractions, royal family]  [TOURIST_ATTRACTIONS, ROYAL_FAMILY]                     [2, 1]\n",
       "1066               [teams, match seasons]                       [match_season]                        [0]\n",
       "5099                           [customer]                          [CUSTOMERS]                        [3]\n",
       "6127                              [order]         [customers, customer_orders]                    [67, 8]\n",
       "1592              [account, transactions]             [Financial_transactions]                        [6]\n",
       "2158                              [races]                              [races]                        [0]\n",
       "372                           [employees]                           [Employee]                        [4]\n",
       "1883                        [elimination]                        [elimination]                        [1]\n",
       "6705                            [lessons]                     [Staff, Lessons]                   [166, 0]\n",
       "2634                              [rooms]                              [Rooms]                        [0]"
      ]
     },
     "execution_count": 12,
     "metadata": {},
     "output_type": "execute_result"
    }
   ],
   "source": [
    "df_question_entities_tables.sample(frac=1)[['entities_for_tables', 'tables', 'ground_truth_table_indices']].head(10)"
   ]
  },
  {
   "cell_type": "code",
   "execution_count": 13,
   "id": "70a03a8d",
   "metadata": {},
   "outputs": [
    {
     "data": {
      "text/plain": [
       "(7000, 8)"
      ]
     },
     "execution_count": 13,
     "metadata": {},
     "output_type": "execute_result"
    }
   ],
   "source": [
    "df_question_entities_tables.shape"
   ]
  },
  {
   "cell_type": "code",
   "execution_count": 14,
   "id": "b94aba51",
   "metadata": {},
   "outputs": [
    {
     "data": {
      "text/plain": [
       "6"
      ]
     },
     "execution_count": 14,
     "metadata": {},
     "output_type": "execute_result"
    }
   ],
   "source": [
    "df_question_entities_tables['ground_truth_table_indices'].isna().sum()"
   ]
  },
  {
   "cell_type": "code",
   "execution_count": 15,
   "id": "35774951",
   "metadata": {},
   "outputs": [],
   "source": [
    "df_question_entities_tables_not_null = df_question_entities_tables.loc[~df_question_entities_tables['ground_truth_table_indices'].isna()]"
   ]
  },
  {
   "cell_type": "code",
   "execution_count": 16,
   "id": "bf9be545",
   "metadata": {},
   "outputs": [
    {
     "data": {
      "text/plain": [
       "(6994, 8)"
      ]
     },
     "execution_count": 16,
     "metadata": {},
     "output_type": "execute_result"
    }
   ],
   "source": [
    "df_question_entities_tables_not_null.shape"
   ]
  },
  {
   "cell_type": "code",
   "execution_count": 17,
   "id": "d3137fbc",
   "metadata": {},
   "outputs": [],
   "source": [
    "# Create new columns safely without triggering a SettingWithCopyWarning\n",
    "df_question_entities_tables_not_null = df_question_entities_tables_not_null.copy()\n",
    "\n",
    "# Calculate \"min_percentile\" and \"max_percentile\"\n",
    "df_question_entities_tables_not_null[\"min_percentile\"] = df_question_entities_tables_not_null[\n",
    "    \"ground_truth_table_indices\"\n",
    "].apply(lambda x: min(x) / corpus_size)\n",
    "\n",
    "df_question_entities_tables_not_null[\"max_percentile\"] = df_question_entities_tables_not_null[\n",
    "    \"ground_truth_table_indices\"\n",
    "].apply(lambda x: max(x) / corpus_size)"
   ]
  },
  {
   "cell_type": "markdown",
   "id": "85864564",
   "metadata": {},
   "source": [
    "## look at one single example"
   ]
  },
  {
   "cell_type": "code",
   "execution_count": 18,
   "id": "131bdba5",
   "metadata": {},
   "outputs": [
    {
     "data": {
      "text/html": [
       "<div>\n",
       "<style scoped>\n",
       "    .dataframe tbody tr th:only-of-type {\n",
       "        vertical-align: middle;\n",
       "    }\n",
       "\n",
       "    .dataframe tbody tr th {\n",
       "        vertical-align: top;\n",
       "    }\n",
       "\n",
       "    .dataframe thead th {\n",
       "        text-align: right;\n",
       "    }\n",
       "</style>\n",
       "<table border=\"1\" class=\"dataframe\">\n",
       "  <thead>\n",
       "    <tr style=\"text-align: right;\">\n",
       "      <th></th>\n",
       "      <th>processed_table</th>\n",
       "      <th>question_entity</th>\n",
       "      <th>table</th>\n",
       "      <th>similarity_score</th>\n",
       "    </tr>\n",
       "  </thead>\n",
       "  <tbody>\n",
       "    <tr>\n",
       "      <th>0</th>\n",
       "      <td>employees</td>\n",
       "      <td>employees</td>\n",
       "      <td>Employees</td>\n",
       "      <td>1.000000</td>\n",
       "    </tr>\n",
       "    <tr>\n",
       "      <th>1</th>\n",
       "      <td>employees</td>\n",
       "      <td>employees</td>\n",
       "      <td>employees</td>\n",
       "      <td>1.000000</td>\n",
       "    </tr>\n",
       "    <tr>\n",
       "      <th>2</th>\n",
       "      <td>employee</td>\n",
       "      <td>employees</td>\n",
       "      <td>EMPLOYEE</td>\n",
       "      <td>0.782726</td>\n",
       "    </tr>\n",
       "    <tr>\n",
       "      <th>3</th>\n",
       "      <td>employee</td>\n",
       "      <td>employees</td>\n",
       "      <td>employee</td>\n",
       "      <td>0.782726</td>\n",
       "    </tr>\n",
       "    <tr>\n",
       "      <th>4</th>\n",
       "      <td>employee</td>\n",
       "      <td>employees</td>\n",
       "      <td>Employee</td>\n",
       "      <td>0.782726</td>\n",
       "    </tr>\n",
       "    <tr>\n",
       "      <th>5</th>\n",
       "      <td>staff</td>\n",
       "      <td>employees</td>\n",
       "      <td>STAFF</td>\n",
       "      <td>0.734211</td>\n",
       "    </tr>\n",
       "    <tr>\n",
       "      <th>6</th>\n",
       "      <td>staff</td>\n",
       "      <td>employees</td>\n",
       "      <td>Staff</td>\n",
       "      <td>0.734211</td>\n",
       "    </tr>\n",
       "    <tr>\n",
       "      <th>7</th>\n",
       "      <td>staff</td>\n",
       "      <td>employees</td>\n",
       "      <td>staff</td>\n",
       "      <td>0.734211</td>\n",
       "    </tr>\n",
       "    <tr>\n",
       "      <th>8</th>\n",
       "      <td>customers</td>\n",
       "      <td>employees</td>\n",
       "      <td>Customers</td>\n",
       "      <td>0.655316</td>\n",
       "    </tr>\n",
       "    <tr>\n",
       "      <th>9</th>\n",
       "      <td>customers</td>\n",
       "      <td>employees</td>\n",
       "      <td>CUSTOMERS</td>\n",
       "      <td>0.655316</td>\n",
       "    </tr>\n",
       "  </tbody>\n",
       "</table>\n",
       "</div>"
      ],
      "text/plain": [
       "  processed_table question_entity      table  similarity_score\n",
       "0       employees       employees  Employees          1.000000\n",
       "1       employees       employees  employees          1.000000\n",
       "2        employee       employees   EMPLOYEE          0.782726\n",
       "3        employee       employees   employee          0.782726\n",
       "4        employee       employees   Employee          0.782726\n",
       "5           staff       employees      STAFF          0.734211\n",
       "6           staff       employees      Staff          0.734211\n",
       "7           staff       employees      staff          0.734211\n",
       "8       customers       employees  Customers          0.655316\n",
       "9       customers       employees  CUSTOMERS          0.655316"
      ]
     },
     "execution_count": 18,
     "metadata": {},
     "output_type": "execute_result"
    }
   ],
   "source": [
    "question_entity = 'employees'\n",
    "aaa = search_for_a_single_entity(question_entity, search_corpus, embedded_dict)\n",
    "aaa.sort(key=lambda x: x[-1], reverse=True)\n",
    "df_aaa = pd.DataFrame([ele[1:] for ele in aaa][:10], columns=['processed_table', 'table', 'similarity_score'])\n",
    "df_aaa['question_entity'] = question_entity\n",
    "df_aaa[['processed_table', 'question_entity', 'table', 'similarity_score']]"
   ]
  },
  {
   "cell_type": "markdown",
   "id": "ea11925b",
   "metadata": {},
   "source": [
    "## evaluation metrics for retrieval"
   ]
  },
  {
   "cell_type": "code",
   "execution_count": 19,
   "id": "7753ee81",
   "metadata": {},
   "outputs": [
    {
     "data": {
      "text/plain": [
       "Index(['question', 'entities_for_tables', 'entities_for_columns', 'query',\n",
       "       'tables', 'entities', 'ground_truth_table_indices',\n",
       "       'scores_and_truth_labels', 'min_percentile', 'max_percentile'],\n",
       "      dtype='object')"
      ]
     },
     "execution_count": 19,
     "metadata": {},
     "output_type": "execute_result"
    }
   ],
   "source": [
    "df_question_entities_tables_not_null.columns"
   ]
  },
  {
   "cell_type": "code",
   "execution_count": 20,
   "id": "d5d61f53",
   "metadata": {},
   "outputs": [
    {
     "data": {
      "text/html": [
       "<div>\n",
       "<style scoped>\n",
       "    .dataframe tbody tr th:only-of-type {\n",
       "        vertical-align: middle;\n",
       "    }\n",
       "\n",
       "    .dataframe tbody tr th {\n",
       "        vertical-align: top;\n",
       "    }\n",
       "\n",
       "    .dataframe thead th {\n",
       "        text-align: right;\n",
       "    }\n",
       "</style>\n",
       "<table border=\"1\" class=\"dataframe\">\n",
       "  <thead>\n",
       "    <tr style=\"text-align: right;\">\n",
       "      <th></th>\n",
       "      <th>question</th>\n",
       "      <th>entities_for_tables</th>\n",
       "      <th>entities_for_columns</th>\n",
       "      <th>tables</th>\n",
       "      <th>ground_truth_table_indices</th>\n",
       "      <th>min_percentile</th>\n",
       "      <th>max_percentile</th>\n",
       "    </tr>\n",
       "  </thead>\n",
       "  <tbody>\n",
       "    <tr>\n",
       "      <th>6228</th>\n",
       "      <td>Find the name, class and rank of all captains.</td>\n",
       "      <td>[captains]</td>\n",
       "      <td>[name, class, rank]</td>\n",
       "      <td>[captain]</td>\n",
       "      <td>[0]</td>\n",
       "      <td>0.000000</td>\n",
       "      <td>0.000000</td>\n",
       "    </tr>\n",
       "    <tr>\n",
       "      <th>5649</th>\n",
       "      <td>Show the countries that have both managers of age above 50 and managers of age below 46.</td>\n",
       "      <td>[countries, managers]</td>\n",
       "      <td>[age]</td>\n",
       "      <td>[manager]</td>\n",
       "      <td>[2]</td>\n",
       "      <td>0.003247</td>\n",
       "      <td>0.003247</td>\n",
       "    </tr>\n",
       "    <tr>\n",
       "      <th>792</th>\n",
       "      <td>Find the ids and names of members who are under age 30 or with black membership card.</td>\n",
       "      <td>[members]</td>\n",
       "      <td>[ids, names, age, membership card]</td>\n",
       "      <td>[member]</td>\n",
       "      <td>[1]</td>\n",
       "      <td>0.001623</td>\n",
       "      <td>0.001623</td>\n",
       "    </tr>\n",
       "    <tr>\n",
       "      <th>1265</th>\n",
       "      <td>Return each apartment type code along with the maximum and minimum number of rooms among each type.</td>\n",
       "      <td>[apartment]</td>\n",
       "      <td>[type code, number of rooms]</td>\n",
       "      <td>[Apartments]</td>\n",
       "      <td>[0]</td>\n",
       "      <td>0.000000</td>\n",
       "      <td>0.000000</td>\n",
       "    </tr>\n",
       "    <tr>\n",
       "      <th>5501</th>\n",
       "      <td>How many students does each advisor have?</td>\n",
       "      <td>[students, advisor]</td>\n",
       "      <td>[count]</td>\n",
       "      <td>[STUDENT]</td>\n",
       "      <td>[4]</td>\n",
       "      <td>0.006494</td>\n",
       "      <td>0.006494</td>\n",
       "    </tr>\n",
       "    <tr>\n",
       "      <th>3527</th>\n",
       "      <td>display the full name (first and last name), and salary of those employees who working in any department located in London.</td>\n",
       "      <td>[employees, departments]</td>\n",
       "      <td>[full name, first name, last name, salary, department, location]</td>\n",
       "      <td>[departments, locations, employees]</td>\n",
       "      <td>[2, 161, 1]</td>\n",
       "      <td>0.001623</td>\n",
       "      <td>0.261364</td>\n",
       "    </tr>\n",
       "    <tr>\n",
       "      <th>6696</th>\n",
       "      <td>List all payment methods and number of payments using each payment methods.</td>\n",
       "      <td>[payment]</td>\n",
       "      <td>[payment methods, number of payments]</td>\n",
       "      <td>[Customer_Payments]</td>\n",
       "      <td>[3]</td>\n",
       "      <td>0.004870</td>\n",
       "      <td>0.004870</td>\n",
       "    </tr>\n",
       "    <tr>\n",
       "      <th>5405</th>\n",
       "      <td>What are the names for the 3 branches that have the most memberships?</td>\n",
       "      <td>[branches, memberships]</td>\n",
       "      <td>[names]</td>\n",
       "      <td>[branch]</td>\n",
       "      <td>[0]</td>\n",
       "      <td>0.000000</td>\n",
       "      <td>0.000000</td>\n",
       "    </tr>\n",
       "    <tr>\n",
       "      <th>746</th>\n",
       "      <td>What are the different account ids that have made financial transactions, as well as how many transactions correspond to each?</td>\n",
       "      <td>[financial transactions, accounts]</td>\n",
       "      <td>[account ids, transactions]</td>\n",
       "      <td>[Financial_transactions]</td>\n",
       "      <td>[1]</td>\n",
       "      <td>0.001623</td>\n",
       "      <td>0.001623</td>\n",
       "    </tr>\n",
       "    <tr>\n",
       "      <th>1659</th>\n",
       "      <td>What is the average and minimum age of all artists from United States.</td>\n",
       "      <td>[artists]</td>\n",
       "      <td>[age, United States]</td>\n",
       "      <td>[artist]</td>\n",
       "      <td>[2]</td>\n",
       "      <td>0.003247</td>\n",
       "      <td>0.003247</td>\n",
       "    </tr>\n",
       "  </tbody>\n",
       "</table>\n",
       "</div>"
      ],
      "text/plain": [
       "                                                                                                                            question                 entities_for_tables                                              entities_for_columns                               tables ground_truth_table_indices  min_percentile  max_percentile\n",
       "6228                                                                                  Find the name, class and rank of all captains.                          [captains]                                               [name, class, rank]                            [captain]                        [0]        0.000000        0.000000\n",
       "5649                                        Show the countries that have both managers of age above 50 and managers of age below 46.               [countries, managers]                                                             [age]                            [manager]                        [2]        0.003247        0.003247\n",
       "792                                            Find the ids and names of members who are under age 30 or with black membership card.                           [members]                                [ids, names, age, membership card]                             [member]                        [1]        0.001623        0.001623\n",
       "1265                             Return each apartment type code along with the maximum and minimum number of rooms among each type.                         [apartment]                                      [type code, number of rooms]                         [Apartments]                        [0]        0.000000        0.000000\n",
       "5501                                                                                       How many students does each advisor have?                 [students, advisor]                                                           [count]                            [STUDENT]                        [4]        0.006494        0.006494\n",
       "3527     display the full name (first and last name), and salary of those employees who working in any department located in London.            [employees, departments]  [full name, first name, last name, salary, department, location]  [departments, locations, employees]                [2, 161, 1]        0.001623        0.261364\n",
       "6696                                                     List all payment methods and number of payments using each payment methods.                           [payment]                             [payment methods, number of payments]                  [Customer_Payments]                        [3]        0.004870        0.004870\n",
       "5405                                                           What are the names for the 3 branches that have the most memberships?             [branches, memberships]                                                           [names]                             [branch]                        [0]        0.000000        0.000000\n",
       "746   What are the different account ids that have made financial transactions, as well as how many transactions correspond to each?  [financial transactions, accounts]                                       [account ids, transactions]             [Financial_transactions]                        [1]        0.001623        0.001623\n",
       "1659                                                          What is the average and minimum age of all artists from United States.                           [artists]                                              [age, United States]                             [artist]                        [2]        0.003247        0.003247"
      ]
     },
     "execution_count": 20,
     "metadata": {},
     "output_type": "execute_result"
    }
   ],
   "source": [
    "df_question_entities_tables_not_null.sample(frac=1, random_state=14)\\\n",
    "[['question', 'entities_for_tables', 'entities_for_columns',\\\n",
    "  'tables', 'ground_truth_table_indices', 'min_percentile', 'max_percentile']].head(10)"
   ]
  },
  {
   "cell_type": "code",
   "execution_count": 21,
   "id": "abd8bfae",
   "metadata": {},
   "outputs": [
    {
     "data": {
      "text/plain": [
       "616"
      ]
     },
     "execution_count": 21,
     "metadata": {},
     "output_type": "execute_result"
    }
   ],
   "source": [
    "corpus_size"
   ]
  },
  {
   "cell_type": "code",
   "execution_count": 22,
   "id": "77c8927f",
   "metadata": {},
   "outputs": [
    {
     "name": "stdout",
     "output_type": "stream",
     "text": [
      "     min_percentile max_percentile\n",
      "0%             0.0%           0.0%\n",
      "10%            0.0%           0.0%\n",
      "20%            0.0%           0.0%\n",
      "30%            0.0%         0.162%\n",
      "40%            0.0%         0.325%\n",
      "50%          0.162%         0.487%\n",
      "60%          0.162%         0.974%\n",
      "70%          0.325%         2.273%\n",
      "80%          0.649%        10.065%\n",
      "90%          1.299%        36.477%\n",
      "100%        94.481%        99.675%\n"
     ]
    }
   ],
   "source": [
    "def calculate_quantiles(df, quantile_steps=0.1):\n",
    "\n",
    "    # Select numeric columns only\n",
    "    numeric_columns = df.select_dtypes(include=[np.number])\n",
    "    \n",
    "    # Calculate quantiles\n",
    "    quantiles = numeric_columns.quantile(\n",
    "        q=np.arange(0, 1 + quantile_steps, quantile_steps), axis=0, numeric_only=True\n",
    "    )\n",
    "    quantiles.index = [f\"{int(q * 100)}%\" for q in quantiles.index]  # Format index as percentages\n",
    "    quantiles = (quantiles * 100).round(3).astype(str) + \"%\"  # Convert values to percentages and append '%'\n",
    "    return quantiles\n",
    "\n",
    "# Calculate quantiles with 10% steps\n",
    "quantiles_df = calculate_quantiles(df_question_entities_tables_not_null, quantile_steps=0.1)\n",
    "\n",
    "# Display the quantiles DataFrame\n",
    "print(quantiles_df)"
   ]
  },
  {
   "cell_type": "markdown",
   "id": "629cfdb7",
   "metadata": {},
   "source": [
    "## AUC-ROC and AUC-PRC"
   ]
  },
  {
   "cell_type": "code",
   "execution_count": 23,
   "id": "0930d18d",
   "metadata": {},
   "outputs": [],
   "source": [
    "all_scores_and_labels = []\n",
    "\n",
    "for ind, row in df_question_entities_tables_not_null.iterrows():\n",
    "    one_example_scores_and_labels = row['scores_and_truth_labels']\n",
    "    all_scores_and_labels += one_example_scores_and_labels"
   ]
  },
  {
   "cell_type": "code",
   "execution_count": 24,
   "id": "6020268e",
   "metadata": {},
   "outputs": [
    {
     "data": {
      "text/plain": [
       "[[0.9999999999999999, 0],\n",
       " [0.9006696519454702, 0],\n",
       " [0.9006696519454702, 0],\n",
       " [0.6417659648764319, 0],\n",
       " [0.6417659648764319, 0]]"
      ]
     },
     "execution_count": 24,
     "metadata": {},
     "output_type": "execute_result"
    }
   ],
   "source": [
    "all_scores_and_labels[:5]"
   ]
  },
  {
   "cell_type": "code",
   "execution_count": 25,
   "id": "24a64642",
   "metadata": {},
   "outputs": [
    {
     "data": {
      "image/png": "[encoded data removed]",
      "text/plain": [
       "<Figure size 800x600 with 1 Axes>"
      ]
     },
     "metadata": {},
     "output_type": "display_data"
    },
    {
     "data": {
      "image/png": "[encoded data removed]",
      "text/plain": [
       "<Figure size 800x600 with 1 Axes>"
      ]
     },
     "metadata": {},
     "output_type": "display_data"
    },
    {
     "data": {
      "text/plain": [
       "{'Balance Ratio': 0.0025288373336700472,\n",
       " 'AUC-ROC': 0.9355786425615343,\n",
       " 'AUC-PRC': 0.22793425480806717,\n",
       " 'AUC-PRC/balance_ratio': 90.0,\n",
       " 'Precision at 90.0% recall': '1.0%'}"
      ]
     },
     "execution_count": 25,
     "metadata": {},
     "output_type": "execute_result"
    }
   ],
   "source": [
    "def evaluate_model(predictions):\n",
    "    \"\"\"\n",
    "    Evaluate model predictions by calculating and plotting:\n",
    "    1. Balance ratio\n",
    "    2. ROC curve and AUC-ROC\n",
    "    3. Precision-Recall curve and AUC-PRC\n",
    "    4. Precision when recall > 0.95\n",
    "    \n",
    "    Args:\n",
    "        predictions (list of lists): A list where each entry is [score, true_label].\n",
    "\n",
    "    Returns:\n",
    "        dict: Dictionary containing balance ratio, AUC-ROC, AUC-PRC, and precision when recall > 0.95.\n",
    "    \"\"\"\n",
    "    # Separate scores and true labels\n",
    "    y_scores = [item[0] for item in predictions]\n",
    "    y_true = [item[1] for item in predictions]\n",
    "    \n",
    "    # Calculate balance ratio\n",
    "    balance_ratio = sum(y_true) / len(y_true)\n",
    "    \n",
    "    # Calculate ROC curve and AUC-ROC\n",
    "    fpr, tpr, _ = roc_curve(y_true, y_scores)\n",
    "    roc_auc = auc(fpr, tpr)\n",
    "    \n",
    "    # Plot ROC curve\n",
    "    plt.figure(figsize=(8, 6))\n",
    "    plt.plot(fpr, tpr, label=f\"AUC-ROC = {roc_auc:.3f}\")\n",
    "    plt.plot([0, 1], [0, 1], 'k--', label=\"Random Classifier\")\n",
    "    plt.xlabel(\"False Positive Rate\")\n",
    "    plt.ylabel(\"True Positive Rate\")\n",
    "    plt.title(\"ROC Curve\")\n",
    "    plt.legend()\n",
    "    plt.show()\n",
    "    \n",
    "    # Calculate Precision-Recall curve and AUC-PRC\n",
    "    precision, recall, _ = precision_recall_curve(y_true, y_scores)\n",
    "    prc_auc = auc(recall, precision)\n",
    "    \n",
    "    # Reverse precision and recall for ascending recall order\n",
    "    precision = precision[::-1]\n",
    "    recall = recall[::-1]\n",
    "    \n",
    "    # Find precision when recall > 0.95\n",
    "    threshold_recall = 0.9\n",
    "    precision_at_threshold_recall = None\n",
    "    for p, r in zip(precision, recall):\n",
    "        if r > threshold_recall:\n",
    "            precision_at_threshold_recall = p\n",
    "            break\n",
    "    \n",
    "    # Plot Precision-Recall curve\n",
    "    plt.figure(figsize=(8, 6))\n",
    "    plt.plot(recall, precision, label=f\"AUC-PRC = {prc_auc:.3f}\")\n",
    "    plt.xlabel(\"Recall\")\n",
    "    plt.ylabel(\"Precision\")\n",
    "    plt.title(\"Precision-Recall Curve\")\n",
    "    plt.legend()\n",
    "    plt.show()\n",
    "    \n",
    "    # Return results\n",
    "    return {\n",
    "        \"Balance Ratio\": balance_ratio,\n",
    "        \"AUC-ROC\": roc_auc,\n",
    "        \"AUC-PRC\": prc_auc,\n",
    "        \"AUC-PRC/balance_ratio\": round(prc_auc / balance_ratio, 0),\n",
    "        \"Precision at {}% recall\".format(threshold_recall*100): str(round(precision_at_threshold_recall*100,1))+'%'\n",
    "    }\n",
    "\n",
    "evaluate_model(all_scores_and_labels)"
   ]
  },
  {
   "cell_type": "markdown",
   "id": "c504c8d4",
   "metadata": {},
   "source": [
    "## save result as .csv and upload to S3"
   ]
  },
  {
   "cell_type": "code",
   "execution_count": 26,
   "id": "24574e42",
   "metadata": {},
   "outputs": [
    {
     "name": "stdout",
     "output_type": "stream",
     "text": [
      "File df_question_entities_tables_not_null_v2.csv successfully uploaded to s3://sagemaker-studio-423623869859-3no3d9ie4hx/df_question_entities_tables_not_null_v2.csv\n"
     ]
    }
   ],
   "source": [
    "# Save the DataFrame to a local CSV file\n",
    "file_name = 'df_question_entities_tables_not_null_v2.csv'\n",
    "df_question_entities_tables_not_null.to_csv(file_name, index=False, header=True)\n",
    "\n",
    "# Upload the CSV file to the specified S3 bucket\n",
    "s3_client.upload_file(file_name, bucket_name, file_name)\n",
    "\n",
    "print(f\"File {file_name} successfully uploaded to s3://{bucket_name}/{file_name}\")"
   ]
  },
  {
   "cell_type": "code",
   "execution_count": null,
   "id": "01e697bb",
   "metadata": {},
   "outputs": [],
   "source": []
  }
 ],
 "metadata": {
  "kernelspec": {
   "display_name": "conda_pytorch_p310",
   "language": "python",
   "name": "conda_pytorch_p310"
  },
  "language_info": {
   "codemirror_mode": {
    "name": "ipython",
    "version": 3
   },
   "file_extension": ".py",
   "mimetype": "text/x-python",
   "name": "python",
   "nbconvert_exporter": "python",
   "pygments_lexer": "ipython3",
   "version": "3.10.14"
  }
 },
 "nbformat": 4,
 "nbformat_minor": 5
}
