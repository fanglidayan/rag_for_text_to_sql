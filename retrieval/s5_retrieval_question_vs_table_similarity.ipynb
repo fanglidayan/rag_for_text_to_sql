{
 "cells": [
  {
   "cell_type": "code",
   "execution_count": 1,
   "id": "28cd4399",
   "metadata": {},
   "outputs": [],
   "source": [
    "import boto3\n",
    "import pandas as pd\n",
    "import ast\n",
    "import json\n",
    "import matplotlib.pyplot as plt\n",
    "import time\n",
    "import torch\n",
    "import torch.nn.functional as F\n",
    "import numpy as np\n",
    "import copy\n",
    "# from transformers import pipeline, AutoTokenizer, AutoModelForCausalLM, AutoModelForTokenClassification, AutoModel\n",
    "import os\n",
    "from sklearn.metrics import roc_curve, auc, precision_recall_curve\n",
    "# from huggingface_hub import login\n",
    "# from sentence_transformers import SentenceTransformer\n",
    "\n",
    "\n",
    "# Configure pandas to display all columns and their full content without truncation\n",
    "pd.set_option('display.max_columns', None)  # Show all columns\n",
    "pd.set_option('display.max_colwidth', None)  # Do not truncate column contents\n",
    "pd.set_option('display.expand_frame_repr', False)  # Avoid wrapping to the next line"
   ]
  },
  {
   "cell_type": "markdown",
   "id": "1c58aee7",
   "metadata": {},
   "source": [
    "## load questions and sql queries in spider train"
   ]
  },
  {
   "cell_type": "code",
   "execution_count": 2,
   "id": "8dfe8efe",
   "metadata": {},
   "outputs": [],
   "source": [
    "# Define your S3 bucket and file key\n",
    "bucket_name = 'sagemaker-studio-423623869859-3no3d9ie4hx'\n",
    "\n",
    "# Initialize the S3 client\n",
    "s3_client = boto3.client('s3')\n",
    "\n",
    "# Load the file from S3\n",
    "obj = s3_client.get_object(Bucket=bucket_name, Key='df_question_entities_tables.csv')\n",
    "df_question_entities_tables = pd.read_csv(obj['Body'])\n",
    "columns_whose_values_are_lists = ['entities_for_tables', 'entities_for_columns', 'tables', 'entities']\n",
    "for column in columns_whose_values_are_lists:\n",
    "    df_question_entities_tables[column] = df_question_entities_tables[column].apply(ast.literal_eval)\n",
    "\n",
    "obj = s3_client.get_object(Bucket=bucket_name, Key='df_schema_table.csv')\n",
    "df_schema_table = pd.read_csv(obj['Body'])\n",
    "\n",
    "obj = s3_client.get_object(Bucket=bucket_name, Key='embeddings.json')\n",
    "embedded_dict = json.load(obj['Body'])\n",
    "for key in embedded_dict:\n",
    "    embedded_dict[key] = np.array(embedded_dict[key])"
   ]
  },
  {
   "cell_type": "code",
   "execution_count": 3,
   "id": "8067d12d",
   "metadata": {},
   "outputs": [
    {
     "name": "stdout",
     "output_type": "stream",
     "text": [
      "what is the first name and last name employee helps the customer with first name leonie?\n",
      "768\n",
      "number of bedrooms\n",
      "768\n",
      "what are the title and director of the films without any schedule?\n",
      "768\n",
      "uganda\n",
      "768\n",
      "art instructors\n",
      "768\n"
     ]
    }
   ],
   "source": [
    "ct = 0\n",
    "ct_max = 5\n",
    "for key in embedded_dict:\n",
    "    print(key)\n",
    "    print(len(embedded_dict[key]))\n",
    "    ct += 1\n",
    "    if ct == ct_max:\n",
    "        break"
   ]
  },
  {
   "cell_type": "code",
   "execution_count": 4,
   "id": "ab90e187",
   "metadata": {},
   "outputs": [
    {
     "data": {
      "text/plain": [
       "(7000, 6)"
      ]
     },
     "execution_count": 4,
     "metadata": {},
     "output_type": "execute_result"
    }
   ],
   "source": [
    "df_question_entities_tables.shape"
   ]
  },
  {
   "cell_type": "code",
   "execution_count": 5,
   "id": "4a0204a1",
   "metadata": {},
   "outputs": [
    {
     "data": {
      "text/html": [
       "<div>\n",
       "<style scoped>\n",
       "    .dataframe tbody tr th:only-of-type {\n",
       "        vertical-align: middle;\n",
       "    }\n",
       "\n",
       "    .dataframe tbody tr th {\n",
       "        vertical-align: top;\n",
       "    }\n",
       "\n",
       "    .dataframe thead th {\n",
       "        text-align: right;\n",
       "    }\n",
       "</style>\n",
       "<table border=\"1\" class=\"dataframe\">\n",
       "  <thead>\n",
       "    <tr style=\"text-align: right;\">\n",
       "      <th></th>\n",
       "      <th>entities_for_tables</th>\n",
       "      <th>tables</th>\n",
       "    </tr>\n",
       "  </thead>\n",
       "  <tbody>\n",
       "    <tr>\n",
       "      <th>4500</th>\n",
       "      <td>[documents]</td>\n",
       "      <td>[documents]</td>\n",
       "    </tr>\n",
       "    <tr>\n",
       "      <th>124</th>\n",
       "      <td>[zip code]</td>\n",
       "      <td>[weather]</td>\n",
       "    </tr>\n",
       "    <tr>\n",
       "      <th>1310</th>\n",
       "      <td>[attendances, performances]</td>\n",
       "      <td>[performance]</td>\n",
       "    </tr>\n",
       "    <tr>\n",
       "      <th>2572</th>\n",
       "      <td>[rooms]</td>\n",
       "      <td>[Rooms]</td>\n",
       "    </tr>\n",
       "    <tr>\n",
       "      <th>6292</th>\n",
       "      <td>[cities]</td>\n",
       "      <td>[city, temperature, hosting_city]</td>\n",
       "    </tr>\n",
       "    <tr>\n",
       "      <th>149</th>\n",
       "      <td>[stations, bike]</td>\n",
       "      <td>[status, station]</td>\n",
       "    </tr>\n",
       "    <tr>\n",
       "      <th>6247</th>\n",
       "      <td>[ship]</td>\n",
       "      <td>[ship]</td>\n",
       "    </tr>\n",
       "    <tr>\n",
       "      <th>5551</th>\n",
       "      <td>[products]</td>\n",
       "      <td>[ref_colors, products]</td>\n",
       "    </tr>\n",
       "    <tr>\n",
       "      <th>1980</th>\n",
       "      <td>[phones]</td>\n",
       "      <td>[phone]</td>\n",
       "    </tr>\n",
       "    <tr>\n",
       "      <th>1959</th>\n",
       "      <td>[films]</td>\n",
       "      <td>[film]</td>\n",
       "    </tr>\n",
       "  </tbody>\n",
       "</table>\n",
       "</div>"
      ],
      "text/plain": [
       "              entities_for_tables                             tables\n",
       "4500                  [documents]                        [documents]\n",
       "124                    [zip code]                          [weather]\n",
       "1310  [attendances, performances]                      [performance]\n",
       "2572                      [rooms]                            [Rooms]\n",
       "6292                     [cities]  [city, temperature, hosting_city]\n",
       "149              [stations, bike]                  [status, station]\n",
       "6247                       [ship]                             [ship]\n",
       "5551                   [products]             [ref_colors, products]\n",
       "1980                     [phones]                            [phone]\n",
       "1959                      [films]                             [film]"
      ]
     },
     "execution_count": 5,
     "metadata": {},
     "output_type": "execute_result"
    }
   ],
   "source": [
    "df_question_entities_tables.sample(frac=1)[['entities_for_tables', 'tables']].head(10)"
   ]
  },
  {
   "cell_type": "code",
   "execution_count": 6,
   "id": "f07e5982",
   "metadata": {},
   "outputs": [
    {
     "data": {
      "text/plain": [
       "(749, 5)"
      ]
     },
     "execution_count": 6,
     "metadata": {},
     "output_type": "execute_result"
    }
   ],
   "source": [
    "df_schema_table.shape"
   ]
  },
  {
   "cell_type": "code",
   "execution_count": 7,
   "id": "78b0fb05",
   "metadata": {},
   "outputs": [
    {
     "data": {
      "text/html": [
       "<div>\n",
       "<style scoped>\n",
       "    .dataframe tbody tr th:only-of-type {\n",
       "        vertical-align: middle;\n",
       "    }\n",
       "\n",
       "    .dataframe tbody tr th {\n",
       "        vertical-align: top;\n",
       "    }\n",
       "\n",
       "    .dataframe thead th {\n",
       "        text-align: right;\n",
       "    }\n",
       "</style>\n",
       "<table border=\"1\" class=\"dataframe\">\n",
       "  <thead>\n",
       "    <tr style=\"text-align: right;\">\n",
       "      <th></th>\n",
       "      <th>database</th>\n",
       "      <th>table</th>\n",
       "      <th>processed_database</th>\n",
       "      <th>processed_table</th>\n",
       "      <th>database_and_table</th>\n",
       "    </tr>\n",
       "  </thead>\n",
       "  <tbody>\n",
       "    <tr>\n",
       "      <th>0</th>\n",
       "      <td>academic</td>\n",
       "      <td>author</td>\n",
       "      <td>academic</td>\n",
       "      <td>author</td>\n",
       "      <td>academic author</td>\n",
       "    </tr>\n",
       "    <tr>\n",
       "      <th>1</th>\n",
       "      <td>academic</td>\n",
       "      <td>conference</td>\n",
       "      <td>academic</td>\n",
       "      <td>conference</td>\n",
       "      <td>academic conference</td>\n",
       "    </tr>\n",
       "    <tr>\n",
       "      <th>2</th>\n",
       "      <td>academic</td>\n",
       "      <td>domain</td>\n",
       "      <td>academic</td>\n",
       "      <td>domain</td>\n",
       "      <td>academic domain</td>\n",
       "    </tr>\n",
       "  </tbody>\n",
       "</table>\n",
       "</div>"
      ],
      "text/plain": [
       "   database       table processed_database processed_table   database_and_table\n",
       "0  academic      author           academic          author      academic author\n",
       "1  academic  conference           academic      conference  academic conference\n",
       "2  academic      domain           academic          domain      academic domain"
      ]
     },
     "execution_count": 7,
     "metadata": {},
     "output_type": "execute_result"
    }
   ],
   "source": [
    "df_schema_table.head(3)"
   ]
  },
  {
   "cell_type": "markdown",
   "id": "76546c24",
   "metadata": {},
   "source": [
    "## get corpus for retrieval"
   ]
  },
  {
   "cell_type": "code",
   "execution_count": 8,
   "id": "61fe52dd",
   "metadata": {},
   "outputs": [
    {
     "data": {
      "text/plain": [
       "table              0\n",
       "processed_table    0\n",
       "embedding          0\n",
       "dtype: int64"
      ]
     },
     "execution_count": 8,
     "metadata": {},
     "output_type": "execute_result"
    }
   ],
   "source": [
    "all_tables = []\n",
    "for ind, row in df_question_entities_tables.iterrows():\n",
    "    all_tables += row['tables']\n",
    "    \n",
    "all_tables = list(set(all_tables))\n",
    "all_tables = [[ele] for ele in all_tables]\n",
    "df_all_tables = pd.DataFrame(all_tables, columns=['table'])\n",
    "df_all_tables['processed_table'] = df_all_tables['table'].apply(lambda x: ' '.join(segment for segment in x.split('_') if not segment.isdigit())\n",
    ")\n",
    "df_all_tables['processed_table'] = df_all_tables['processed_table'].apply(lambda x : x.lower())\n",
    "df_all_tables['embedding'] = df_all_tables['processed_table'].map(embedded_dict)\n",
    "df_all_tables.isna().sum()"
   ]
  },
  {
   "cell_type": "code",
   "execution_count": 9,
   "id": "1b49f950",
   "metadata": {},
   "outputs": [],
   "source": [
    "search_corpus = df_all_tables[['embedding', 'processed_table', 'table']]\\\n",
    ".drop_duplicates(subset=['table']).values.tolist()"
   ]
  },
  {
   "cell_type": "code",
   "execution_count": 10,
   "id": "82eb21fa",
   "metadata": {},
   "outputs": [
    {
     "name": "stdout",
     "output_type": "stream",
     "text": [
      "999\n",
      "1999\n",
      "2999\n",
      "3999\n",
      "4999\n",
      "5999\n",
      "6999\n"
     ]
    }
   ],
   "source": [
    "def cosine_similarity(vec1, vec2):\n",
    "    \n",
    "    dot_product = np.dot(vec1, vec2)\n",
    "    norm_a = np.linalg.norm(vec1)\n",
    "    norm_b = np.linalg.norm(vec2)\n",
    "    \n",
    "    # Calculate cosine similarity\n",
    "    result = dot_product / (norm_a * norm_b)\n",
    "    return result\n",
    "\n",
    "def search_for_a_single_entity(entity, search_corpus, embedded_dict):\n",
    "    \n",
    "    entity = entity.lower()\n",
    "    search_corpus_copy = copy.deepcopy(search_corpus)\n",
    "    entity_embedding = embedded_dict[entity]\n",
    "    for ind, ele in enumerate(search_corpus_copy):\n",
    "        document_embedding = ele[0]\n",
    "        search_corpus_copy[ind].append(cosine_similarity(entity_embedding, document_embedding))\n",
    "    return search_corpus_copy\n",
    "\n",
    "def merge_and_sort_multiple_search_corpus_copies(list_of_search_corpus_copies):\n",
    "    \n",
    "    if list_of_search_corpus_copies == []:\n",
    "        return None\n",
    "    \n",
    "    result = []\n",
    "    for ind, ele in enumerate(list_of_search_corpus_copies[0]):\n",
    "        result.append([])\n",
    "        for search_corpus_copy in list_of_search_corpus_copies:\n",
    "            result[-1].append(search_corpus_copy[ind][-1])\n",
    "            \n",
    "    search_corpus_copy_merged_and_sorted = []\n",
    "    #print(result)\n",
    "    for ind, ele in enumerate(list_of_search_corpus_copies[0]):\n",
    "        search_corpus_copy_merged_and_sorted.append(ele[:-1]+[max(result[ind])])\n",
    "        \n",
    "    search_corpus_copy_merged_and_sorted.sort(key=lambda x: x[-1], reverse=True)\n",
    "        \n",
    "    return search_corpus_copy_merged_and_sorted\n",
    "        \n",
    "\n",
    "def find_index_of_a_table_from_ranked_list(target_table, search_corpus_copy_merged_and_sorted):\n",
    "    \n",
    "    if not search_corpus_copy_merged_and_sorted:\n",
    "        return None\n",
    "    \n",
    "    list_of_sorted_tables = [ele[2] for ele in search_corpus_copy_merged_and_sorted]\n",
    "    try:\n",
    "        index = list_of_sorted_tables.index(target_table)\n",
    "    except:\n",
    "        index = None\n",
    "        \n",
    "    return index\n",
    "\n",
    "def generate_list_of_similarity_scores_and_truth_labels(ground_truth_tables, search_corpus_copy_merged_and_sorted):\n",
    "    \n",
    "    list_of_similarity_scores_and_truth_labels = []\n",
    "    for ele in search_corpus_copy_merged_and_sorted:\n",
    "        table = ele[-2]\n",
    "        similarity_score = ele[-1]\n",
    "        if table in ground_truth_tables:\n",
    "            list_of_similarity_scores_and_truth_labels.append([similarity_score, 1])\n",
    "        else:\n",
    "            list_of_similarity_scores_and_truth_labels.append([similarity_score, 0])\n",
    "    \n",
    "    return list_of_similarity_scores_and_truth_labels\n",
    "\n",
    "####################################################################################################\n",
    "\n",
    "\n",
    "df_question_entities_tables['ground_truth_table_indices'] = None\n",
    "df_question_entities_tables['scores_and_truth_labels'] = None\n",
    "\n",
    "for ind, row in df_question_entities_tables.iterrows():\n",
    "    \n",
    "    if ind % 1000 == 999:\n",
    "        print(ind)\n",
    "        \n",
    "    ground_truth_tables = row['tables']\n",
    "    entities_for_tables = [row['question']]\n",
    "    list_of_search_corpus_copies = []\n",
    "    \n",
    "    if entities_for_tables == []:\n",
    "        print('no entities for tables')\n",
    "    for entity in entities_for_tables:\n",
    "        list_of_search_corpus_copies.append(search_for_a_single_entity(entity, search_corpus, embedded_dict))\n",
    "        \n",
    "    search_corpus_copy_merged_and_sorted = merge_and_sort_multiple_search_corpus_copies(list_of_search_corpus_copies)\n",
    "    #print(type(ground_truth_tables))\n",
    "    \n",
    "    ground_truth_table_indices = []\n",
    "    #print(ground_truth_tables)\n",
    "    flag_found_indices_for_all_ground_truth_tables = True\n",
    "    for ground_truth_table in ground_truth_tables:\n",
    "        index = find_index_of_a_table_from_ranked_list(ground_truth_table, search_corpus_copy_merged_and_sorted)\n",
    "        ground_truth_table_indices.append(index)\n",
    "        # index would be none if no entities for tables from the original question\n",
    "        if index is None:\n",
    "            print('index is None')\n",
    "            flag_found_indices_for_all_ground_truth_tables = False\n",
    "            break  \n",
    "    if flag_found_indices_for_all_ground_truth_tables:  \n",
    "        df_question_entities_tables.loc[ind, 'ground_truth_table_indices'] = ground_truth_table_indices\n",
    "        list_of_similarity_scores_and_truth_labels = \\\n",
    "        generate_list_of_similarity_scores_and_truth_labels(ground_truth_tables, search_corpus_copy_merged_and_sorted)\n",
    "        df_question_entities_tables.loc[ind, 'scores_and_truth_labels'] = list_of_similarity_scores_and_truth_labels\n",
    "    else:\n",
    "        continue"
   ]
  },
  {
   "cell_type": "code",
   "execution_count": 11,
   "id": "818a55c7",
   "metadata": {},
   "outputs": [
    {
     "data": {
      "text/plain": [
       "616"
      ]
     },
     "execution_count": 11,
     "metadata": {},
     "output_type": "execute_result"
    }
   ],
   "source": [
    "corpus_size = len(search_corpus)\n",
    "corpus_size"
   ]
  },
  {
   "cell_type": "code",
   "execution_count": 12,
   "id": "6465910c",
   "metadata": {},
   "outputs": [
    {
     "data": {
      "text/html": [
       "<div>\n",
       "<style scoped>\n",
       "    .dataframe tbody tr th:only-of-type {\n",
       "        vertical-align: middle;\n",
       "    }\n",
       "\n",
       "    .dataframe tbody tr th {\n",
       "        vertical-align: top;\n",
       "    }\n",
       "\n",
       "    .dataframe thead th {\n",
       "        text-align: right;\n",
       "    }\n",
       "</style>\n",
       "<table border=\"1\" class=\"dataframe\">\n",
       "  <thead>\n",
       "    <tr style=\"text-align: right;\">\n",
       "      <th></th>\n",
       "      <th>question</th>\n",
       "      <th>tables</th>\n",
       "      <th>ground_truth_table_indices</th>\n",
       "    </tr>\n",
       "  </thead>\n",
       "  <tbody>\n",
       "    <tr>\n",
       "      <th>6704</th>\n",
       "      <td>How long is the total lesson time taught by staff with first name as Janessa and last name as Sawayn?</td>\n",
       "      <td>[Staff, Lessons]</td>\n",
       "      <td>[9, 14]</td>\n",
       "    </tr>\n",
       "    <tr>\n",
       "      <th>1405</th>\n",
       "      <td>Which year had the greatest number of courses?</td>\n",
       "      <td>[SECTION]</td>\n",
       "      <td>[379]</td>\n",
       "    </tr>\n",
       "    <tr>\n",
       "      <th>6474</th>\n",
       "      <td>Count the number of different scientists assigned to any project.</td>\n",
       "      <td>[assignedto]</td>\n",
       "      <td>[107]</td>\n",
       "    </tr>\n",
       "    <tr>\n",
       "      <th>4222</th>\n",
       "      <td>Show the location code, the starting date and ending data in that location for all the documents.</td>\n",
       "      <td>[Document_locations]</td>\n",
       "      <td>[0]</td>\n",
       "    </tr>\n",
       "    <tr>\n",
       "      <th>2207</th>\n",
       "      <td>What are the drivers' first, last names and id who had more than 8 pit stops or participated in more than 5 race results?</td>\n",
       "      <td>[pitstops, drivers, results]</td>\n",
       "      <td>[13, 3, 12]</td>\n",
       "    </tr>\n",
       "    <tr>\n",
       "      <th>500</th>\n",
       "      <td>How many students does each advisor have?</td>\n",
       "      <td>[Student]</td>\n",
       "      <td>[38]</td>\n",
       "    </tr>\n",
       "    <tr>\n",
       "      <th>5837</th>\n",
       "      <td>How many workshops did each author submit to? Return the author name and the number of workshops.</td>\n",
       "      <td>[submission, acceptance]</td>\n",
       "      <td>[8, 286]</td>\n",
       "    </tr>\n",
       "    <tr>\n",
       "      <th>1630</th>\n",
       "      <td>Show the name, open date, and organizer for all churches.</td>\n",
       "      <td>[Church]</td>\n",
       "      <td>[1]</td>\n",
       "    </tr>\n",
       "    <tr>\n",
       "      <th>3211</th>\n",
       "      <td>Find the count and code of the job has most employees.</td>\n",
       "      <td>[employee]</td>\n",
       "      <td>[10]</td>\n",
       "    </tr>\n",
       "    <tr>\n",
       "      <th>5574</th>\n",
       "      <td>Find the number of the products that have their color described as \"red\" and have a characteristic named \"slow\".</td>\n",
       "      <td>[ref_colors, product_characteristics, products, CHARACTERISTICS]</td>\n",
       "      <td>[6, 0, 3, 48]</td>\n",
       "    </tr>\n",
       "  </tbody>\n",
       "</table>\n",
       "</div>"
      ],
      "text/plain": [
       "                                                                                                                       question                                                            tables ground_truth_table_indices\n",
       "6704                      How long is the total lesson time taught by staff with first name as Janessa and last name as Sawayn?                                                  [Staff, Lessons]                    [9, 14]\n",
       "1405                                                                             Which year had the greatest number of courses?                                                         [SECTION]                      [379]\n",
       "6474                                                          Count the number of different scientists assigned to any project.                                                      [assignedto]                      [107]\n",
       "4222                          Show the location code, the starting date and ending data in that location for all the documents.                                              [Document_locations]                        [0]\n",
       "2207  What are the drivers' first, last names and id who had more than 8 pit stops or participated in more than 5 race results?                                      [pitstops, drivers, results]                [13, 3, 12]\n",
       "500                                                                                   How many students does each advisor have?                                                         [Student]                       [38]\n",
       "5837                          How many workshops did each author submit to? Return the author name and the number of workshops.                                          [submission, acceptance]                   [8, 286]\n",
       "1630                                                                  Show the name, open date, and organizer for all churches.                                                          [Church]                        [1]\n",
       "3211                                                                     Find the count and code of the job has most employees.                                                        [employee]                       [10]\n",
       "5574           Find the number of the products that have their color described as \"red\" and have a characteristic named \"slow\".  [ref_colors, product_characteristics, products, CHARACTERISTICS]              [6, 0, 3, 48]"
      ]
     },
     "execution_count": 12,
     "metadata": {},
     "output_type": "execute_result"
    }
   ],
   "source": [
    "df_question_entities_tables.sample(frac=1)[['question', 'tables', 'ground_truth_table_indices']].head(10)"
   ]
  },
  {
   "cell_type": "code",
   "execution_count": 13,
   "id": "70a03a8d",
   "metadata": {},
   "outputs": [
    {
     "data": {
      "text/plain": [
       "(7000, 8)"
      ]
     },
     "execution_count": 13,
     "metadata": {},
     "output_type": "execute_result"
    }
   ],
   "source": [
    "df_question_entities_tables.shape"
   ]
  },
  {
   "cell_type": "code",
   "execution_count": 14,
   "id": "b94aba51",
   "metadata": {},
   "outputs": [
    {
     "data": {
      "text/plain": [
       "0"
      ]
     },
     "execution_count": 14,
     "metadata": {},
     "output_type": "execute_result"
    }
   ],
   "source": [
    "df_question_entities_tables['ground_truth_table_indices'].isna().sum()"
   ]
  },
  {
   "cell_type": "code",
   "execution_count": 15,
   "id": "35774951",
   "metadata": {},
   "outputs": [],
   "source": [
    "df_question_entities_tables_not_null = df_question_entities_tables.loc[~df_question_entities_tables['ground_truth_table_indices'].isna()]"
   ]
  },
  {
   "cell_type": "code",
   "execution_count": 16,
   "id": "bf9be545",
   "metadata": {},
   "outputs": [
    {
     "data": {
      "text/plain": [
       "(7000, 8)"
      ]
     },
     "execution_count": 16,
     "metadata": {},
     "output_type": "execute_result"
    }
   ],
   "source": [
    "df_question_entities_tables_not_null.shape"
   ]
  },
  {
   "cell_type": "code",
   "execution_count": 17,
   "id": "d3137fbc",
   "metadata": {},
   "outputs": [],
   "source": [
    "# Create new columns safely without triggering a SettingWithCopyWarning\n",
    "df_question_entities_tables_not_null = df_question_entities_tables_not_null.copy()\n",
    "\n",
    "# Calculate \"min_percentile\" and \"max_percentile\"\n",
    "df_question_entities_tables_not_null[\"min_percentile\"] = df_question_entities_tables_not_null[\n",
    "    \"ground_truth_table_indices\"\n",
    "].apply(lambda x: min(x) / corpus_size)\n",
    "\n",
    "df_question_entities_tables_not_null[\"max_percentile\"] = df_question_entities_tables_not_null[\n",
    "    \"ground_truth_table_indices\"\n",
    "].apply(lambda x: max(x) / corpus_size)"
   ]
  },
  {
   "cell_type": "markdown",
   "id": "85864564",
   "metadata": {},
   "source": [
    "## look at one single example"
   ]
  },
  {
   "cell_type": "code",
   "execution_count": 18,
   "id": "131bdba5",
   "metadata": {},
   "outputs": [
    {
     "data": {
      "text/html": [
       "<div>\n",
       "<style scoped>\n",
       "    .dataframe tbody tr th:only-of-type {\n",
       "        vertical-align: middle;\n",
       "    }\n",
       "\n",
       "    .dataframe tbody tr th {\n",
       "        vertical-align: top;\n",
       "    }\n",
       "\n",
       "    .dataframe thead th {\n",
       "        text-align: right;\n",
       "    }\n",
       "</style>\n",
       "<table border=\"1\" class=\"dataframe\">\n",
       "  <thead>\n",
       "    <tr style=\"text-align: right;\">\n",
       "      <th></th>\n",
       "      <th>processed_table</th>\n",
       "      <th>question</th>\n",
       "      <th>table</th>\n",
       "      <th>similarity_score</th>\n",
       "    </tr>\n",
       "  </thead>\n",
       "  <tbody>\n",
       "    <tr>\n",
       "      <th>0</th>\n",
       "      <td>captain</td>\n",
       "      <td>Find the name, class and rank of all captains.</td>\n",
       "      <td>captain</td>\n",
       "      <td>0.558074</td>\n",
       "    </tr>\n",
       "    <tr>\n",
       "      <th>1</th>\n",
       "      <td>club rank</td>\n",
       "      <td>Find the name, class and rank of all captains.</td>\n",
       "      <td>club_rank</td>\n",
       "      <td>0.400478</td>\n",
       "    </tr>\n",
       "    <tr>\n",
       "      <th>2</th>\n",
       "      <td>ship</td>\n",
       "      <td>Find the name, class and rank of all captains.</td>\n",
       "      <td>ship</td>\n",
       "      <td>0.373092</td>\n",
       "    </tr>\n",
       "    <tr>\n",
       "      <th>3</th>\n",
       "      <td>player coach</td>\n",
       "      <td>Find the name, class and rank of all captains.</td>\n",
       "      <td>player_coach</td>\n",
       "      <td>0.360570</td>\n",
       "    </tr>\n",
       "    <tr>\n",
       "      <th>4</th>\n",
       "      <td>pilot</td>\n",
       "      <td>Find the name, class and rank of all captains.</td>\n",
       "      <td>pilot</td>\n",
       "      <td>0.333049</td>\n",
       "    </tr>\n",
       "    <tr>\n",
       "      <th>5</th>\n",
       "      <td>departments</td>\n",
       "      <td>Find the name, class and rank of all captains.</td>\n",
       "      <td>departments</td>\n",
       "      <td>0.318764</td>\n",
       "    </tr>\n",
       "    <tr>\n",
       "      <th>6</th>\n",
       "      <td>coach</td>\n",
       "      <td>Find the name, class and rank of all captains.</td>\n",
       "      <td>coach</td>\n",
       "      <td>0.316901</td>\n",
       "    </tr>\n",
       "    <tr>\n",
       "      <th>7</th>\n",
       "      <td>staff department assignments</td>\n",
       "      <td>Find the name, class and rank of all captains.</td>\n",
       "      <td>staff_department_assignments</td>\n",
       "      <td>0.306952</td>\n",
       "    </tr>\n",
       "    <tr>\n",
       "      <th>8</th>\n",
       "      <td>staff department assignments</td>\n",
       "      <td>Find the name, class and rank of all captains.</td>\n",
       "      <td>Staff_Department_Assignments</td>\n",
       "      <td>0.306952</td>\n",
       "    </tr>\n",
       "    <tr>\n",
       "      <th>9</th>\n",
       "      <td>department</td>\n",
       "      <td>Find the name, class and rank of all captains.</td>\n",
       "      <td>DEPARTMENT</td>\n",
       "      <td>0.304324</td>\n",
       "    </tr>\n",
       "  </tbody>\n",
       "</table>\n",
       "</div>"
      ],
      "text/plain": [
       "                processed_table                                        question                         table  similarity_score\n",
       "0                       captain  Find the name, class and rank of all captains.                       captain          0.558074\n",
       "1                     club rank  Find the name, class and rank of all captains.                     club_rank          0.400478\n",
       "2                          ship  Find the name, class and rank of all captains.                          ship          0.373092\n",
       "3                  player coach  Find the name, class and rank of all captains.                  player_coach          0.360570\n",
       "4                         pilot  Find the name, class and rank of all captains.                         pilot          0.333049\n",
       "5                   departments  Find the name, class and rank of all captains.                   departments          0.318764\n",
       "6                         coach  Find the name, class and rank of all captains.                         coach          0.316901\n",
       "7  staff department assignments  Find the name, class and rank of all captains.  staff_department_assignments          0.306952\n",
       "8  staff department assignments  Find the name, class and rank of all captains.  Staff_Department_Assignments          0.306952\n",
       "9                    department  Find the name, class and rank of all captains.                    DEPARTMENT          0.304324"
      ]
     },
     "execution_count": 18,
     "metadata": {},
     "output_type": "execute_result"
    }
   ],
   "source": [
    "question = 'Find the name, class and rank of all captains.'\n",
    "aaa = search_for_a_single_entity(question, search_corpus, embedded_dict)\n",
    "aaa.sort(key=lambda x: x[-1], reverse=True)\n",
    "df_aaa = pd.DataFrame([ele[1:] for ele in aaa][:10], columns=['processed_table', 'table', 'similarity_score'])\n",
    "df_aaa['question'] = question\n",
    "df_aaa[['processed_table', 'question', 'table', 'similarity_score']]"
   ]
  },
  {
   "cell_type": "markdown",
   "id": "ea11925b",
   "metadata": {},
   "source": [
    "## evaluation metrics for retrieval"
   ]
  },
  {
   "cell_type": "code",
   "execution_count": 19,
   "id": "7753ee81",
   "metadata": {},
   "outputs": [
    {
     "data": {
      "text/plain": [
       "Index(['question', 'entities_for_tables', 'entities_for_columns', 'query',\n",
       "       'tables', 'entities', 'ground_truth_table_indices',\n",
       "       'scores_and_truth_labels', 'min_percentile', 'max_percentile'],\n",
       "      dtype='object')"
      ]
     },
     "execution_count": 19,
     "metadata": {},
     "output_type": "execute_result"
    }
   ],
   "source": [
    "df_question_entities_tables_not_null.columns"
   ]
  },
  {
   "cell_type": "code",
   "execution_count": 20,
   "id": "d5d61f53",
   "metadata": {},
   "outputs": [
    {
     "data": {
      "text/html": [
       "<div>\n",
       "<style scoped>\n",
       "    .dataframe tbody tr th:only-of-type {\n",
       "        vertical-align: middle;\n",
       "    }\n",
       "\n",
       "    .dataframe tbody tr th {\n",
       "        vertical-align: top;\n",
       "    }\n",
       "\n",
       "    .dataframe thead th {\n",
       "        text-align: right;\n",
       "    }\n",
       "</style>\n",
       "<table border=\"1\" class=\"dataframe\">\n",
       "  <thead>\n",
       "    <tr style=\"text-align: right;\">\n",
       "      <th></th>\n",
       "      <th>question</th>\n",
       "      <th>entities_for_tables</th>\n",
       "      <th>entities_for_columns</th>\n",
       "      <th>tables</th>\n",
       "      <th>ground_truth_table_indices</th>\n",
       "      <th>min_percentile</th>\n",
       "      <th>max_percentile</th>\n",
       "    </tr>\n",
       "  </thead>\n",
       "  <tbody>\n",
       "    <tr>\n",
       "      <th>4718</th>\n",
       "      <td>Return the staff ids and genders for any staff with the title Department Manager.</td>\n",
       "      <td>[staff]</td>\n",
       "      <td>[staff ids, genders, title, Department Manager]</td>\n",
       "      <td>[staff, staff_department_assignments]</td>\n",
       "      <td>[8, 0]</td>\n",
       "      <td>0.000000</td>\n",
       "      <td>0.012987</td>\n",
       "    </tr>\n",
       "    <tr>\n",
       "      <th>3622</th>\n",
       "      <td>What is the id, genre, and name of the artist for every English song ordered by ascending rating?</td>\n",
       "      <td>[artist, song]</td>\n",
       "      <td>[id, genre, name, English, rating]</td>\n",
       "      <td>[song]</td>\n",
       "      <td>[16]</td>\n",
       "      <td>0.025974</td>\n",
       "      <td>0.025974</td>\n",
       "    </tr>\n",
       "    <tr>\n",
       "      <th>1068</th>\n",
       "      <td>Show the players and the years played.</td>\n",
       "      <td>[players]</td>\n",
       "      <td>[players, years played]</td>\n",
       "      <td>[player]</td>\n",
       "      <td>[4]</td>\n",
       "      <td>0.006494</td>\n",
       "      <td>0.006494</td>\n",
       "    </tr>\n",
       "    <tr>\n",
       "      <th>2199</th>\n",
       "      <td>List the forenames of all distinct drivers in alphabetical order?</td>\n",
       "      <td>[drivers]</td>\n",
       "      <td>[forenames]</td>\n",
       "      <td>[drivers]</td>\n",
       "      <td>[1]</td>\n",
       "      <td>0.001623</td>\n",
       "      <td>0.001623</td>\n",
       "    </tr>\n",
       "    <tr>\n",
       "      <th>6720</th>\n",
       "      <td>What buildings have faculty offices?</td>\n",
       "      <td>[buildings, faculty offices]</td>\n",
       "      <td>[buildings, faculty offices]</td>\n",
       "      <td>[Faculty]</td>\n",
       "      <td>[4]</td>\n",
       "      <td>0.006494</td>\n",
       "      <td>0.006494</td>\n",
       "    </tr>\n",
       "    <tr>\n",
       "      <th>1470</th>\n",
       "      <td>Find the names of all instructors in the Art department who have taught some course and the course_id.</td>\n",
       "      <td>[instructors, course]</td>\n",
       "      <td>[names, Art department, course_id]</td>\n",
       "      <td>[instructor, teaches]</td>\n",
       "      <td>[6, 36]</td>\n",
       "      <td>0.009740</td>\n",
       "      <td>0.058442</td>\n",
       "    </tr>\n",
       "    <tr>\n",
       "      <th>3185</th>\n",
       "      <td>How many credits does course CIS-220 have, and what its description?</td>\n",
       "      <td>[course]</td>\n",
       "      <td>[credits, description, CIS-220]</td>\n",
       "      <td>[course]</td>\n",
       "      <td>[40]</td>\n",
       "      <td>0.064935</td>\n",
       "      <td>0.064935</td>\n",
       "    </tr>\n",
       "    <tr>\n",
       "      <th>3210</th>\n",
       "      <td>How many different professors are there for the different schools?</td>\n",
       "      <td>[professors, schools]</td>\n",
       "      <td>[count]</td>\n",
       "      <td>[professor, department]</td>\n",
       "      <td>[5, 48]</td>\n",
       "      <td>0.008117</td>\n",
       "      <td>0.077922</td>\n",
       "    </tr>\n",
       "    <tr>\n",
       "      <th>6003</th>\n",
       "      <td>List ids for all student who are on scholarship.</td>\n",
       "      <td>[student]</td>\n",
       "      <td>[ids, scholarship]</td>\n",
       "      <td>[Sportsinfo]</td>\n",
       "      <td>[70]</td>\n",
       "      <td>0.113636</td>\n",
       "      <td>0.113636</td>\n",
       "    </tr>\n",
       "    <tr>\n",
       "      <th>4904</th>\n",
       "      <td>Find the name and population of district with population between 200000 and 2000000</td>\n",
       "      <td>[district]</td>\n",
       "      <td>[name, population]</td>\n",
       "      <td>[district]</td>\n",
       "      <td>[0]</td>\n",
       "      <td>0.000000</td>\n",
       "      <td>0.000000</td>\n",
       "    </tr>\n",
       "  </tbody>\n",
       "</table>\n",
       "</div>"
      ],
      "text/plain": [
       "                                                                                                    question           entities_for_tables                             entities_for_columns                                 tables ground_truth_table_indices  min_percentile  max_percentile\n",
       "4718                       Return the staff ids and genders for any staff with the title Department Manager.                       [staff]  [staff ids, genders, title, Department Manager]  [staff, staff_department_assignments]                     [8, 0]        0.000000        0.012987\n",
       "3622       What is the id, genre, and name of the artist for every English song ordered by ascending rating?                [artist, song]               [id, genre, name, English, rating]                                 [song]                       [16]        0.025974        0.025974\n",
       "1068                                                                  Show the players and the years played.                     [players]                          [players, years played]                               [player]                        [4]        0.006494        0.006494\n",
       "2199                                       List the forenames of all distinct drivers in alphabetical order?                     [drivers]                                      [forenames]                              [drivers]                        [1]        0.001623        0.001623\n",
       "6720                                                                    What buildings have faculty offices?  [buildings, faculty offices]                     [buildings, faculty offices]                              [Faculty]                        [4]        0.006494        0.006494\n",
       "1470  Find the names of all instructors in the Art department who have taught some course and the course_id.         [instructors, course]               [names, Art department, course_id]                  [instructor, teaches]                    [6, 36]        0.009740        0.058442\n",
       "3185                                    How many credits does course CIS-220 have, and what its description?                      [course]                  [credits, description, CIS-220]                               [course]                       [40]        0.064935        0.064935\n",
       "3210                                      How many different professors are there for the different schools?         [professors, schools]                                          [count]                [professor, department]                    [5, 48]        0.008117        0.077922\n",
       "6003                                                        List ids for all student who are on scholarship.                     [student]                               [ids, scholarship]                           [Sportsinfo]                       [70]        0.113636        0.113636\n",
       "4904                     Find the name and population of district with population between 200000 and 2000000                    [district]                               [name, population]                             [district]                        [0]        0.000000        0.000000"
      ]
     },
     "execution_count": 20,
     "metadata": {},
     "output_type": "execute_result"
    }
   ],
   "source": [
    "df_question_entities_tables_not_null.sample(frac=1, random_state=14)\\\n",
    "[['question', 'entities_for_tables', 'entities_for_columns',\\\n",
    "  'tables', 'ground_truth_table_indices', 'min_percentile', 'max_percentile']].head(10)"
   ]
  },
  {
   "cell_type": "code",
   "execution_count": 21,
   "id": "abd8bfae",
   "metadata": {},
   "outputs": [
    {
     "data": {
      "text/plain": [
       "616"
      ]
     },
     "execution_count": 21,
     "metadata": {},
     "output_type": "execute_result"
    }
   ],
   "source": [
    "corpus_size"
   ]
  },
  {
   "cell_type": "code",
   "execution_count": 22,
   "id": "77c8927f",
   "metadata": {},
   "outputs": [
    {
     "name": "stdout",
     "output_type": "stream",
     "text": [
      "     min_percentile max_percentile\n",
      "0%             0.0%           0.0%\n",
      "10%            0.0%           0.0%\n",
      "20%            0.0%         0.162%\n",
      "30%            0.0%         0.325%\n",
      "40%          0.162%         0.487%\n",
      "50%          0.162%         0.812%\n",
      "60%          0.325%         1.299%\n",
      "70%          0.649%          2.11%\n",
      "80%          1.136%         3.896%\n",
      "90%          2.273%        11.851%\n",
      "100%        93.344%        93.994%\n"
     ]
    }
   ],
   "source": [
    "def calculate_quantiles(df, quantile_steps=0.1):\n",
    "\n",
    "    # Select numeric columns only\n",
    "    numeric_columns = df.select_dtypes(include=[np.number])\n",
    "    \n",
    "    # Calculate quantiles\n",
    "    quantiles = numeric_columns.quantile(\n",
    "        q=np.arange(0, 1 + quantile_steps, quantile_steps), axis=0, numeric_only=True\n",
    "    )\n",
    "    quantiles.index = [f\"{int(q * 100)}%\" for q in quantiles.index]  # Format index as percentages\n",
    "    quantiles = (quantiles * 100).round(3).astype(str) + \"%\"  # Convert values to percentages and append '%'\n",
    "    return quantiles\n",
    "\n",
    "# Calculate quantiles with 10% steps\n",
    "quantiles_df = calculate_quantiles(df_question_entities_tables_not_null, quantile_steps=0.1)\n",
    "\n",
    "# Display the quantiles DataFrame\n",
    "print(quantiles_df)"
   ]
  },
  {
   "cell_type": "markdown",
   "id": "629cfdb7",
   "metadata": {},
   "source": [
    "## AUC-ROC and AUC-PRC"
   ]
  },
  {
   "cell_type": "code",
   "execution_count": 23,
   "id": "0930d18d",
   "metadata": {},
   "outputs": [],
   "source": [
    "all_scores_and_labels = []\n",
    "\n",
    "for ind, row in df_question_entities_tables_not_null.iterrows():\n",
    "    one_example_scores_and_labels = row['scores_and_truth_labels']\n",
    "    all_scores_and_labels += one_example_scores_and_labels"
   ]
  },
  {
   "cell_type": "code",
   "execution_count": 24,
   "id": "6020268e",
   "metadata": {},
   "outputs": [
    {
     "data": {
      "text/plain": [
       "[[0.47797647744686456, 0],\n",
       " [0.4388512513326294, 0],\n",
       " [0.4388512513326294, 0],\n",
       " [0.43520320550679276, 0],\n",
       " [0.43520320550679276, 0]]"
      ]
     },
     "execution_count": 24,
     "metadata": {},
     "output_type": "execute_result"
    }
   ],
   "source": [
    "all_scores_and_labels[:5]"
   ]
  },
  {
   "cell_type": "code",
   "execution_count": 25,
   "id": "24a64642",
   "metadata": {},
   "outputs": [
    {
     "data": {
      "image/png": "[encoded data removed]",
      "text/plain": [
       "<Figure size 800x600 with 1 Axes>"
      ]
     },
     "metadata": {},
     "output_type": "display_data"
    },
    {
     "data": {
      "image/png": "[encoded data removed]",
      "text/plain": [
       "<Figure size 800x600 with 1 Axes>"
      ]
     },
     "metadata": {},
     "output_type": "display_data"
    },
    {
     "data": {
      "text/plain": [
       "{'Balance Ratio': 0.002528061224489796,\n",
       " 'AUC-ROC': 0.9632216419242238,\n",
       " 'AUC-PRC': 0.19713283079041935,\n",
       " 'AUC-PRC/balance_ratio': 78.0,\n",
       " 'Precision at 90.0% recall': '2.7%'}"
      ]
     },
     "execution_count": 25,
     "metadata": {},
     "output_type": "execute_result"
    }
   ],
   "source": [
    "def evaluate_model(predictions):\n",
    "    \"\"\"\n",
    "    Evaluate model predictions by calculating and plotting:\n",
    "    1. Balance ratio\n",
    "    2. ROC curve and AUC-ROC\n",
    "    3. Precision-Recall curve and AUC-PRC\n",
    "    4. Precision when recall > 0.95\n",
    "    \n",
    "    Args:\n",
    "        predictions (list of lists): A list where each entry is [score, true_label].\n",
    "\n",
    "    Returns:\n",
    "        dict: Dictionary containing balance ratio, AUC-ROC, AUC-PRC, and precision when recall > 0.95.\n",
    "    \"\"\"\n",
    "    # Separate scores and true labels\n",
    "    y_scores = [item[0] for item in predictions]\n",
    "    y_true = [item[1] for item in predictions]\n",
    "    \n",
    "    # Calculate balance ratio\n",
    "    balance_ratio = sum(y_true) / len(y_true)\n",
    "    \n",
    "    # Calculate ROC curve and AUC-ROC\n",
    "    fpr, tpr, _ = roc_curve(y_true, y_scores)\n",
    "    roc_auc = auc(fpr, tpr)\n",
    "    \n",
    "    # Plot ROC curve\n",
    "    plt.figure(figsize=(8, 6))\n",
    "    plt.plot(fpr, tpr, label=f\"AUC-ROC = {roc_auc:.3f}\")\n",
    "    plt.plot([0, 1], [0, 1], 'k--', label=\"Random Classifier\")\n",
    "    plt.xlabel(\"False Positive Rate\")\n",
    "    plt.ylabel(\"True Positive Rate\")\n",
    "    plt.title(\"ROC Curve\")\n",
    "    plt.legend()\n",
    "    plt.show()\n",
    "    \n",
    "    # Calculate Precision-Recall curve and AUC-PRC\n",
    "    precision, recall, _ = precision_recall_curve(y_true, y_scores)\n",
    "    prc_auc = auc(recall, precision)\n",
    "    \n",
    "    # Reverse precision and recall for ascending recall order\n",
    "    precision = precision[::-1]\n",
    "    recall = recall[::-1]\n",
    "    \n",
    "    # Find precision when recall > 0.95\n",
    "    threshold_recall = 0.9\n",
    "    precision_at_threshold_recall = None\n",
    "    for p, r in zip(precision, recall):\n",
    "        if r > threshold_recall:\n",
    "            precision_at_threshold_recall = p\n",
    "            break\n",
    "    \n",
    "    # Plot Precision-Recall curve\n",
    "    plt.figure(figsize=(8, 6))\n",
    "    plt.plot(recall, precision, label=f\"AUC-PRC = {prc_auc:.3f}\")\n",
    "    plt.xlabel(\"Recall\")\n",
    "    plt.ylabel(\"Precision\")\n",
    "    plt.title(\"Precision-Recall Curve\")\n",
    "    plt.legend()\n",
    "    plt.show()\n",
    "    \n",
    "    # Return results\n",
    "    return {\n",
    "        \"Balance Ratio\": balance_ratio,\n",
    "        \"AUC-ROC\": roc_auc,\n",
    "        \"AUC-PRC\": prc_auc,\n",
    "        \"AUC-PRC/balance_ratio\": round(prc_auc / balance_ratio, 0),\n",
    "        \"Precision at {}% recall\".format(threshold_recall*100): str(round(precision_at_threshold_recall*100,1))+'%'\n",
    "    }\n",
    "\n",
    "evaluate_model(all_scores_and_labels)"
   ]
  },
  {
   "cell_type": "markdown",
   "id": "c504c8d4",
   "metadata": {},
   "source": [
    "## save result as .csv and upload to S3"
   ]
  },
  {
   "cell_type": "code",
   "execution_count": 26,
   "id": "24574e42",
   "metadata": {},
   "outputs": [
    {
     "name": "stdout",
     "output_type": "stream",
     "text": [
      "File df_question_entities_tables_not_null_v2.csv successfully uploaded to s3://sagemaker-studio-423623869859-3no3d9ie4hx/df_question_entities_tables_not_null_v2.csv\n"
     ]
    }
   ],
   "source": [
    "# Save the DataFrame to a local CSV file\n",
    "file_name = 'df_question_entities_tables_not_null_v2.csv'\n",
    "df_question_entities_tables_not_null.to_csv(file_name, index=False, header=True)\n",
    "\n",
    "# Upload the CSV file to the specified S3 bucket\n",
    "s3_client.upload_file(file_name, bucket_name, file_name)\n",
    "\n",
    "print(f\"File {file_name} successfully uploaded to s3://{bucket_name}/{file_name}\")"
   ]
  },
  {
   "cell_type": "code",
   "execution_count": null,
   "id": "01e697bb",
   "metadata": {},
   "outputs": [],
   "source": []
  }
 ],
 "metadata": {
  "kernelspec": {
   "display_name": "conda_pytorch_p310",
   "language": "python",
   "name": "conda_pytorch_p310"
  },
  "language_info": {
   "codemirror_mode": {
    "name": "ipython",
    "version": 3
   },
   "file_extension": ".py",
   "mimetype": "text/x-python",
   "name": "python",
   "nbconvert_exporter": "python",
   "pygments_lexer": "ipython3",
   "version": "3.10.14"
  }
 },
 "nbformat": 4,
 "nbformat_minor": 5
}
